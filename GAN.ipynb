{
 "cells": [
  {
   "attachments": {},
   "cell_type": "markdown",
   "metadata": {},
   "source": [
    "# Readme"
   ]
  },
  {
   "attachments": {},
   "cell_type": "markdown",
   "metadata": {},
   "source": [
    "* To run this script, ensure that the folder *\"NEU-CLS\"* is extracted and placed in the base directory.\n",
    "* The last checkpoint weights for the gan model is not included in zip file as it is a large file and could not be sent over the email.\n",
    "* Samples of Generated Images are stored in gan_images folder (20 Images every 50 epochs starting from 150th epoch).\n",
    "    1. Total Number Images Generated: 120\n",
    "* Folders that are created after running notebook:\n",
    "    1. gan_images\n",
    "    2. weights"
   ]
  },
  {
   "attachments": {},
   "cell_type": "markdown",
   "metadata": {},
   "source": [
    "# Import Libraries"
   ]
  },
  {
   "cell_type": "code",
   "execution_count": 9,
   "metadata": {},
   "outputs": [
    {
     "name": "stdout",
     "output_type": "stream",
     "text": [
      "Requirement already satisfied: asttokens==2.2.1 in c:\\users\\darry\\desktop\\venv_gan\\lib\\site-packages (from -r q3_requirements.txt (line 1)) (2.2.1)\n",
      "Requirement already satisfied: backcall==0.2.0 in c:\\users\\darry\\desktop\\venv_gan\\lib\\site-packages (from -r q3_requirements.txt (line 2)) (0.2.0)\n",
      "Requirement already satisfied: certifi==2022.12.7 in c:\\users\\darry\\desktop\\venv_gan\\lib\\site-packages (from -r q3_requirements.txt (line 3)) (2022.12.7)\n",
      "Requirement already satisfied: charset-normalizer==2.1.1 in c:\\users\\darry\\desktop\\venv_gan\\lib\\site-packages (from -r q3_requirements.txt (line 4)) (2.1.1)\n",
      "Requirement already satisfied: colorama==0.4.6 in c:\\users\\darry\\desktop\\venv_gan\\lib\\site-packages (from -r q3_requirements.txt (line 5)) (0.4.6)\n",
      "Requirement already satisfied: comm==0.1.3 in c:\\users\\darry\\desktop\\venv_gan\\lib\\site-packages (from -r q3_requirements.txt (line 6)) (0.1.3)\n",
      "Requirement already satisfied: contourpy==1.1.0 in c:\\users\\darry\\desktop\\venv_gan\\lib\\site-packages (from -r q3_requirements.txt (line 7)) (1.1.0)\n",
      "Requirement already satisfied: cycler==0.11.0 in c:\\users\\darry\\desktop\\venv_gan\\lib\\site-packages (from -r q3_requirements.txt (line 8)) (0.11.0)\n",
      "Requirement already satisfied: debugpy==1.6.7 in c:\\users\\darry\\desktop\\venv_gan\\lib\\site-packages (from -r q3_requirements.txt (line 9)) (1.6.7)\n",
      "Requirement already satisfied: decorator==5.1.1 in c:\\users\\darry\\desktop\\venv_gan\\lib\\site-packages (from -r q3_requirements.txt (line 10)) (5.1.1)\n",
      "Requirement already satisfied: executing==1.2.0 in c:\\users\\darry\\desktop\\venv_gan\\lib\\site-packages (from -r q3_requirements.txt (line 11)) (1.2.0)\n",
      "Requirement already satisfied: filelock==3.9.0 in c:\\users\\darry\\desktop\\venv_gan\\lib\\site-packages (from -r q3_requirements.txt (line 12)) (3.9.0)\n",
      "Requirement already satisfied: fonttools==4.40.0 in c:\\users\\darry\\desktop\\venv_gan\\lib\\site-packages (from -r q3_requirements.txt (line 13)) (4.40.0)\n",
      "Requirement already satisfied: idna==3.4 in c:\\users\\darry\\desktop\\venv_gan\\lib\\site-packages (from -r q3_requirements.txt (line 14)) (3.4)\n",
      "Requirement already satisfied: ipykernel==6.23.3 in c:\\users\\darry\\desktop\\venv_gan\\lib\\site-packages (from -r q3_requirements.txt (line 15)) (6.23.3)\n",
      "Requirement already satisfied: ipython==8.14.0 in c:\\users\\darry\\desktop\\venv_gan\\lib\\site-packages (from -r q3_requirements.txt (line 16)) (8.14.0)\n",
      "Requirement already satisfied: jedi==0.18.2 in c:\\users\\darry\\desktop\\venv_gan\\lib\\site-packages (from -r q3_requirements.txt (line 17)) (0.18.2)\n",
      "Requirement already satisfied: Jinja2==3.1.2 in c:\\users\\darry\\desktop\\venv_gan\\lib\\site-packages (from -r q3_requirements.txt (line 18)) (3.1.2)\n",
      "Requirement already satisfied: jupyter_client==8.3.0 in c:\\users\\darry\\desktop\\venv_gan\\lib\\site-packages (from -r q3_requirements.txt (line 19)) (8.3.0)\n",
      "Requirement already satisfied: jupyter_core==5.3.1 in c:\\users\\darry\\desktop\\venv_gan\\lib\\site-packages (from -r q3_requirements.txt (line 20)) (5.3.1)\n",
      "Requirement already satisfied: kiwisolver==1.4.4 in c:\\users\\darry\\desktop\\venv_gan\\lib\\site-packages (from -r q3_requirements.txt (line 21)) (1.4.4)\n",
      "Requirement already satisfied: MarkupSafe==2.1.2 in c:\\users\\darry\\desktop\\venv_gan\\lib\\site-packages (from -r q3_requirements.txt (line 22)) (2.1.2)\n",
      "Requirement already satisfied: matplotlib==3.7.1 in c:\\users\\darry\\desktop\\venv_gan\\lib\\site-packages (from -r q3_requirements.txt (line 23)) (3.7.1)\n",
      "Requirement already satisfied: matplotlib-inline==0.1.6 in c:\\users\\darry\\desktop\\venv_gan\\lib\\site-packages (from -r q3_requirements.txt (line 24)) (0.1.6)\n",
      "Requirement already satisfied: mpmath==1.2.1 in c:\\users\\darry\\desktop\\venv_gan\\lib\\site-packages (from -r q3_requirements.txt (line 25)) (1.2.1)\n",
      "Requirement already satisfied: nest-asyncio==1.5.6 in c:\\users\\darry\\desktop\\venv_gan\\lib\\site-packages (from -r q3_requirements.txt (line 26)) (1.5.6)\n",
      "Requirement already satisfied: networkx==3.0 in c:\\users\\darry\\desktop\\venv_gan\\lib\\site-packages (from -r q3_requirements.txt (line 27)) (3.0)\n",
      "Requirement already satisfied: numpy==1.24.1 in c:\\users\\darry\\desktop\\venv_gan\\lib\\site-packages (from -r q3_requirements.txt (line 28)) (1.24.1)\n",
      "Requirement already satisfied: opencv-python==4.8.0.74 in c:\\users\\darry\\desktop\\venv_gan\\lib\\site-packages (from -r q3_requirements.txt (line 29)) (4.8.0.74)\n",
      "Requirement already satisfied: packaging==23.1 in c:\\users\\darry\\desktop\\venv_gan\\lib\\site-packages (from -r q3_requirements.txt (line 30)) (23.1)\n",
      "Requirement already satisfied: parso==0.8.3 in c:\\users\\darry\\desktop\\venv_gan\\lib\\site-packages (from -r q3_requirements.txt (line 31)) (0.8.3)\n",
      "Requirement already satisfied: pickleshare==0.7.5 in c:\\users\\darry\\desktop\\venv_gan\\lib\\site-packages (from -r q3_requirements.txt (line 32)) (0.7.5)\n",
      "Requirement already satisfied: Pillow==9.3.0 in c:\\users\\darry\\desktop\\venv_gan\\lib\\site-packages (from -r q3_requirements.txt (line 33)) (9.3.0)\n",
      "Requirement already satisfied: platformdirs==3.8.0 in c:\\users\\darry\\desktop\\venv_gan\\lib\\site-packages (from -r q3_requirements.txt (line 34)) (3.8.0)\n",
      "Requirement already satisfied: prompt-toolkit==3.0.38 in c:\\users\\darry\\desktop\\venv_gan\\lib\\site-packages (from -r q3_requirements.txt (line 35)) (3.0.38)\n",
      "Requirement already satisfied: psutil==5.9.5 in c:\\users\\darry\\desktop\\venv_gan\\lib\\site-packages (from -r q3_requirements.txt (line 36)) (5.9.5)\n",
      "Requirement already satisfied: pure-eval==0.2.2 in c:\\users\\darry\\desktop\\venv_gan\\lib\\site-packages (from -r q3_requirements.txt (line 37)) (0.2.2)\n",
      "Requirement already satisfied: Pygments==2.15.1 in c:\\users\\darry\\desktop\\venv_gan\\lib\\site-packages (from -r q3_requirements.txt (line 38)) (2.15.1)\n",
      "Requirement already satisfied: pyparsing==3.1.0 in c:\\users\\darry\\desktop\\venv_gan\\lib\\site-packages (from -r q3_requirements.txt (line 39)) (3.1.0)\n",
      "Requirement already satisfied: python-dateutil==2.8.2 in c:\\users\\darry\\desktop\\venv_gan\\lib\\site-packages (from -r q3_requirements.txt (line 40)) (2.8.2)\n",
      "Requirement already satisfied: pywin32==306 in c:\\users\\darry\\desktop\\venv_gan\\lib\\site-packages (from -r q3_requirements.txt (line 41)) (306)\n",
      "Requirement already satisfied: pyzmq==25.1.0 in c:\\users\\darry\\desktop\\venv_gan\\lib\\site-packages (from -r q3_requirements.txt (line 42)) (25.1.0)\n",
      "Requirement already satisfied: requests==2.28.1 in c:\\users\\darry\\desktop\\venv_gan\\lib\\site-packages (from -r q3_requirements.txt (line 43)) (2.28.1)\n",
      "Requirement already satisfied: six==1.16.0 in c:\\users\\darry\\desktop\\venv_gan\\lib\\site-packages (from -r q3_requirements.txt (line 44)) (1.16.0)\n",
      "Requirement already satisfied: stack-data==0.6.2 in c:\\users\\darry\\desktop\\venv_gan\\lib\\site-packages (from -r q3_requirements.txt (line 45)) (0.6.2)\n",
      "Requirement already satisfied: sympy==1.11.1 in c:\\users\\darry\\desktop\\venv_gan\\lib\\site-packages (from -r q3_requirements.txt (line 46)) (1.11.1)\n",
      "Requirement already satisfied: torch==2.0.1+cu118 in c:\\users\\darry\\desktop\\venv_gan\\lib\\site-packages (from -r q3_requirements.txt (line 47)) (2.0.1+cu118)\n",
      "Requirement already satisfied: torchaudio==2.0.2+cu118 in c:\\users\\darry\\desktop\\venv_gan\\lib\\site-packages (from -r q3_requirements.txt (line 48)) (2.0.2+cu118)\n",
      "Requirement already satisfied: torchvision==0.15.2+cu118 in c:\\users\\darry\\desktop\\venv_gan\\lib\\site-packages (from -r q3_requirements.txt (line 49)) (0.15.2+cu118)\n",
      "Requirement already satisfied: tornado==6.3.2 in c:\\users\\darry\\desktop\\venv_gan\\lib\\site-packages (from -r q3_requirements.txt (line 50)) (6.3.2)\n",
      "Requirement already satisfied: tqdm==4.65.0 in c:\\users\\darry\\desktop\\venv_gan\\lib\\site-packages (from -r q3_requirements.txt (line 51)) (4.65.0)\n",
      "Requirement already satisfied: traitlets==5.9.0 in c:\\users\\darry\\desktop\\venv_gan\\lib\\site-packages (from -r q3_requirements.txt (line 52)) (5.9.0)\n",
      "Requirement already satisfied: typing_extensions==4.4.0 in c:\\users\\darry\\desktop\\venv_gan\\lib\\site-packages (from -r q3_requirements.txt (line 53)) (4.4.0)\n",
      "Requirement already satisfied: urllib3==1.26.13 in c:\\users\\darry\\desktop\\venv_gan\\lib\\site-packages (from -r q3_requirements.txt (line 54)) (1.26.13)\n",
      "Requirement already satisfied: wcwidth==0.2.6 in c:\\users\\darry\\desktop\\venv_gan\\lib\\site-packages (from -r q3_requirements.txt (line 55)) (0.2.6)\n"
     ]
    },
    {
     "name": "stderr",
     "output_type": "stream",
     "text": [
      "\n",
      "[notice] A new release of pip available: 22.3.1 -> 23.1.2\n",
      "[notice] To update, run: python.exe -m pip install --upgrade pip\n"
     ]
    }
   ],
   "source": [
    "!pip install -r q3_requirements.txt"
   ]
  },
  {
   "cell_type": "code",
   "execution_count": 10,
   "metadata": {},
   "outputs": [],
   "source": [
    "import os\n",
    "import cv2\n",
    "import matplotlib.pyplot as plt\n",
    "from tqdm import tqdm\n",
    "import torch\n",
    "from torch import nn\n",
    "from torch.optim import Adam\n",
    "from torch.utils.data import DataLoader, Dataset\n",
    "from torchvision.transforms import transforms\n"
   ]
  },
  {
   "attachments": {},
   "cell_type": "markdown",
   "metadata": {},
   "source": [
    "# Hyperparameters"
   ]
  },
  {
   "cell_type": "code",
   "execution_count": 11,
   "metadata": {},
   "outputs": [
    {
     "name": "stdout",
     "output_type": "stream",
     "text": [
      "cuda\n"
     ]
    }
   ],
   "source": [
    "# Set the device (CPU or GPU)\n",
    "device = torch.device('cuda' if torch.cuda.is_available() else 'cpu')\n",
    "print(device)\n",
    "\n",
    "# Hyperparameters\n",
    "dim = 100\n",
    "num_epochs = 400\n",
    "batch_size = 128\n",
    "feat_map = 64\n",
    "final_map = 3\n",
    "\n",
    "# Create output directory\n",
    "os.makedirs(\"gan_images\", exist_ok=True)"
   ]
  },
  {
   "attachments": {},
   "cell_type": "markdown",
   "metadata": {},
   "source": [
    "# Preparation of Data"
   ]
  },
  {
   "attachments": {},
   "cell_type": "markdown",
   "metadata": {},
   "source": [
    "### Create Custom Dataset"
   ]
  },
  {
   "cell_type": "code",
   "execution_count": 12,
   "metadata": {},
   "outputs": [
    {
     "name": "stdout",
     "output_type": "stream",
     "text": [
      "Dataset Loaded:  1800\n"
     ]
    }
   ],
   "source": [
    "# Create Custom Dataset\n",
    "class GanDataset(Dataset):\n",
    "    def __init__(self, root_path = './NEU-CLS'):\n",
    "        self.root_path = root_path\n",
    "        self.images = os.listdir(self.root_path)\n",
    "       \n",
    "        self.transform = transforms.Compose([\n",
    "            transforms.ToTensor(),\n",
    "            transforms.Resize(size=(64, 64), antialias=True),\n",
    "        ])\n",
    "        \n",
    "        return print('Dataset Loaded: ', len(self.images))\n",
    "    \n",
    "    def __len__(self):\n",
    "        return len(self.images)\n",
    "    \n",
    "    def __getitem__(self, index):\n",
    "        path = self.images[index]\n",
    "        image_path = os.path.join(self.root_path, path)\n",
    "        image = cv2.imread(image_path)\n",
    "        image = cv2.cvtColor(image, cv2.COLOR_BGR2RGB)\n",
    "\n",
    "        assert image is not None, \"Image does not exist!\"\n",
    "        assert self.transform is not None, \"Please specify your transformation!\"\n",
    "        return self.transform(image)    \n",
    "    \n",
    "dataset = GanDataset()"
   ]
  },
  {
   "attachments": {},
   "cell_type": "markdown",
   "metadata": {},
   "source": [
    "### Create DataLoader"
   ]
  },
  {
   "cell_type": "code",
   "execution_count": 13,
   "metadata": {},
   "outputs": [],
   "source": [
    "# Create DataLoader\n",
    "dataloader = DataLoader(dataset, batch_size=batch_size, shuffle=True)"
   ]
  },
  {
   "attachments": {},
   "cell_type": "markdown",
   "metadata": {},
   "source": [
    "# Models"
   ]
  },
  {
   "attachments": {},
   "cell_type": "markdown",
   "metadata": {},
   "source": [
    "### Initialisation of weights"
   ]
  },
  {
   "cell_type": "code",
   "execution_count": 14,
   "metadata": {},
   "outputs": [],
   "source": [
    "def weights_init(m):\n",
    "    classname = m.__class__.__name__\n",
    "    if classname.find('Conv') != -1:\n",
    "        nn.init.normal_(m.weight.data, 0.0, 0.02)\n",
    "    elif classname.find('BatchNorm') != -1:\n",
    "        nn.init.normal_(m.weight.data, 1.0, 0.02)\n",
    "        nn.init.constant_(m.bias.data, 0)"
   ]
  },
  {
   "attachments": {},
   "cell_type": "markdown",
   "metadata": {},
   "source": [
    "### Generator Model"
   ]
  },
  {
   "cell_type": "code",
   "execution_count": 15,
   "metadata": {},
   "outputs": [
    {
     "data": {
      "text/plain": [
       "Generator(\n",
       "  (model): Sequential(\n",
       "    (0): ConvTranspose2d(100, 512, kernel_size=(4, 4), stride=(1, 1), bias=False)\n",
       "    (1): BatchNorm2d(512, eps=1e-05, momentum=0.1, affine=True, track_running_stats=True)\n",
       "    (2): ReLU(inplace=True)\n",
       "    (3): ConvTranspose2d(512, 256, kernel_size=(4, 4), stride=(2, 2), padding=(1, 1), bias=False)\n",
       "    (4): BatchNorm2d(256, eps=1e-05, momentum=0.1, affine=True, track_running_stats=True)\n",
       "    (5): ReLU(inplace=True)\n",
       "    (6): ConvTranspose2d(256, 128, kernel_size=(4, 4), stride=(2, 2), padding=(1, 1), bias=False)\n",
       "    (7): BatchNorm2d(128, eps=1e-05, momentum=0.1, affine=True, track_running_stats=True)\n",
       "    (8): ReLU(inplace=True)\n",
       "    (9): ConvTranspose2d(128, 64, kernel_size=(4, 4), stride=(2, 2), padding=(1, 1), bias=False)\n",
       "    (10): BatchNorm2d(64, eps=1e-05, momentum=0.1, affine=True, track_running_stats=True)\n",
       "    (11): ReLU(inplace=True)\n",
       "    (12): ConvTranspose2d(64, 3, kernel_size=(4, 4), stride=(2, 2), padding=(1, 1), bias=False)\n",
       "    (13): Tanh()\n",
       "  )\n",
       ")"
      ]
     },
     "execution_count": 15,
     "metadata": {},
     "output_type": "execute_result"
    }
   ],
   "source": [
    "class Generator(nn.Module):\n",
    "    def __init__(self, dim, feat_map, final_map):\n",
    "        super(Generator, self).__init__()\n",
    "\n",
    "        self.model = nn.Sequential(\n",
    "            nn.ConvTranspose2d(dim, feat_map * 8, 4, 1, 0, bias=False),\n",
    "            nn.BatchNorm2d(feat_map * 8),\n",
    "            nn.ReLU(True),\n",
    "            # Out: 1024 x 4 x 4\n",
    "            nn.ConvTranspose2d(feat_map * 8, feat_map * 4, 4, 2, 1, bias=False),\n",
    "            nn.BatchNorm2d(feat_map * 4),\n",
    "            nn.ReLU(True),\n",
    "            # Out: 512 x 8 x 8\n",
    "            nn.ConvTranspose2d(feat_map * 4, feat_map * 2, 4, 2, 1, bias=False),\n",
    "            nn.BatchNorm2d(feat_map * 2),\n",
    "            nn.ReLU(True),\n",
    "            # Out: 256 x 16 x 16\n",
    "            nn.ConvTranspose2d(feat_map * 2, feat_map, 4, 2, 1, bias=False),\n",
    "            nn.BatchNorm2d(feat_map),\n",
    "            nn.ReLU(True),\n",
    "            # Out: 128 x 32 x 32\n",
    "            nn.ConvTranspose2d(feat_map, final_map, 4, 2, 1, bias=False),\n",
    "            nn.Tanh()\n",
    "            # Out: 3 x 64 x 64\n",
    "        )\n",
    "\n",
    "    def forward(self, z):\n",
    "        return self.model(z)\n",
    "    \n",
    "generator = Generator(dim=dim, feat_map=feat_map, final_map=final_map).to(device)\n",
    "generator.apply(weights_init)"
   ]
  },
  {
   "attachments": {},
   "cell_type": "markdown",
   "metadata": {},
   "source": [
    "### Discriminator Model"
   ]
  },
  {
   "cell_type": "code",
   "execution_count": 16,
   "metadata": {},
   "outputs": [
    {
     "data": {
      "text/plain": [
       "Discriminator(\n",
       "  (model): Sequential(\n",
       "    (0): Conv2d(3, 64, kernel_size=(4, 4), stride=(2, 2), padding=(1, 1), bias=False)\n",
       "    (1): LeakyReLU(negative_slope=0.2, inplace=True)\n",
       "    (2): Conv2d(64, 128, kernel_size=(4, 4), stride=(2, 2), padding=(1, 1), bias=False)\n",
       "    (3): BatchNorm2d(128, eps=1e-05, momentum=0.1, affine=True, track_running_stats=True)\n",
       "    (4): LeakyReLU(negative_slope=0.2, inplace=True)\n",
       "    (5): Conv2d(128, 256, kernel_size=(4, 4), stride=(2, 2), padding=(1, 1), bias=False)\n",
       "    (6): BatchNorm2d(256, eps=1e-05, momentum=0.1, affine=True, track_running_stats=True)\n",
       "    (7): LeakyReLU(negative_slope=0.2, inplace=True)\n",
       "    (8): Conv2d(256, 512, kernel_size=(4, 4), stride=(2, 2), padding=(1, 1), bias=False)\n",
       "    (9): BatchNorm2d(512, eps=1e-05, momentum=0.1, affine=True, track_running_stats=True)\n",
       "    (10): LeakyReLU(negative_slope=0.2, inplace=True)\n",
       "    (11): Conv2d(512, 1, kernel_size=(4, 4), stride=(1, 1), bias=False)\n",
       "    (12): Sigmoid()\n",
       "  )\n",
       ")"
      ]
     },
     "execution_count": 16,
     "metadata": {},
     "output_type": "execute_result"
    }
   ],
   "source": [
    "class Discriminator(nn.Module):\n",
    "    def __init__(self, feat_map, final_map):\n",
    "        super(Discriminator, self).__init__()\n",
    "\n",
    "        self.model = nn.Sequential(\n",
    "            nn.Conv2d(final_map, feat_map, 4, 2, 1, bias=False),\n",
    "            nn.LeakyReLU(0.2, inplace=True),\n",
    "            # Out: 64 x 32 x 32\n",
    "            nn.Conv2d(feat_map, feat_map * 2, 4, 2, 1, bias=False),\n",
    "            nn.BatchNorm2d(feat_map * 2),\n",
    "            nn.LeakyReLU(0.2, inplace=True),\n",
    "            # Out: 128 x 16 x 16\n",
    "            nn.Conv2d(feat_map * 2, feat_map * 4, 4, 2, 1, bias=False),\n",
    "            nn.BatchNorm2d(feat_map * 4),\n",
    "            nn.LeakyReLU(0.2, inplace=True),\n",
    "            # Out: 256 x 8 x 8\n",
    "            nn.Conv2d(feat_map * 4, feat_map * 8, 4, 2, 1, bias=False),\n",
    "            nn.BatchNorm2d(feat_map * 8),\n",
    "            nn.LeakyReLU(0.2, inplace=True),\n",
    "            # Out: 512 x 4 x 4\n",
    "            nn.Conv2d(feat_map * 8, 1, 4, 1, 0, bias=False),\n",
    "            nn.Sigmoid()\n",
    "            # Out: 1\n",
    "        )\n",
    "\n",
    "    def forward(self, img):\n",
    "        img = self.model(img)\n",
    "        return img.view(img.shape[0], -1)\n",
    "    \n",
    "discriminator = Discriminator(feat_map=feat_map, final_map=final_map).to(device)\n",
    "discriminator.apply(weights_init)"
   ]
  },
  {
   "attachments": {},
   "cell_type": "markdown",
   "metadata": {},
   "source": [
    "# Training"
   ]
  },
  {
   "cell_type": "code",
   "execution_count": 17,
   "metadata": {},
   "outputs": [
    {
     "name": "stderr",
     "output_type": "stream",
     "text": [
      "1: Training: 100%|██████████| 15/15 [00:04<00:00,  3.24it/s]\n"
     ]
    },
    {
     "name": "stdout",
     "output_type": "stream",
     "text": [
      "1 - D_Loss: 0.6102102021376292, G_Loss: 6.2274700482686365\n"
     ]
    },
    {
     "name": "stderr",
     "output_type": "stream",
     "text": [
      "2: Training: 100%|██████████| 15/15 [00:01<00:00,  8.24it/s]\n"
     ]
    },
    {
     "name": "stdout",
     "output_type": "stream",
     "text": [
      "2 - D_Loss: 0.11846232120490943, G_Loss: 11.752283636728922\n"
     ]
    },
    {
     "name": "stderr",
     "output_type": "stream",
     "text": [
      "3: Training: 100%|██████████| 15/15 [00:01<00:00,  8.23it/s]\n"
     ]
    },
    {
     "name": "stdout",
     "output_type": "stream",
     "text": [
      "3 - D_Loss: 0.37512248697069783, G_Loss: 15.117765967051188\n"
     ]
    },
    {
     "name": "stderr",
     "output_type": "stream",
     "text": [
      "4: Training: 100%|██████████| 15/15 [00:01<00:00,  8.26it/s]\n"
     ]
    },
    {
     "name": "stdout",
     "output_type": "stream",
     "text": [
      "4 - D_Loss: 1.1540096746990458, G_Loss: 16.295885594685874\n"
     ]
    },
    {
     "name": "stderr",
     "output_type": "stream",
     "text": [
      "5: Training: 100%|██████████| 15/15 [00:01<00:00,  8.31it/s]\n"
     ]
    },
    {
     "name": "stdout",
     "output_type": "stream",
     "text": [
      "5 - D_Loss: 0.4085286311184367, G_Loss: 14.222826194763183\n"
     ]
    },
    {
     "name": "stderr",
     "output_type": "stream",
     "text": [
      "6: Training: 100%|██████████| 15/15 [00:01<00:00,  8.25it/s]\n"
     ]
    },
    {
     "name": "stdout",
     "output_type": "stream",
     "text": [
      "6 - D_Loss: 0.35725520352522533, G_Loss: 8.319033605853717\n"
     ]
    },
    {
     "name": "stderr",
     "output_type": "stream",
     "text": [
      "7: Training: 100%|██████████| 15/15 [00:01<00:00,  8.38it/s]\n"
     ]
    },
    {
     "name": "stdout",
     "output_type": "stream",
     "text": [
      "7 - D_Loss: 1.4884623785813649, G_Loss: 5.410754068692525\n"
     ]
    },
    {
     "name": "stderr",
     "output_type": "stream",
     "text": [
      "8: Training: 100%|██████████| 15/15 [00:01<00:00,  8.52it/s]\n"
     ]
    },
    {
     "name": "stdout",
     "output_type": "stream",
     "text": [
      "8 - D_Loss: 1.1515061338742574, G_Loss: 2.7353459363182386\n"
     ]
    },
    {
     "name": "stderr",
     "output_type": "stream",
     "text": [
      "9: Training: 100%|██████████| 15/15 [00:01<00:00,  8.45it/s]\n"
     ]
    },
    {
     "name": "stdout",
     "output_type": "stream",
     "text": [
      "9 - D_Loss: 1.1419181903203328, G_Loss: 2.165579601128896\n"
     ]
    },
    {
     "name": "stderr",
     "output_type": "stream",
     "text": [
      "10: Training: 100%|██████████| 15/15 [00:01<00:00,  8.51it/s]\n"
     ]
    },
    {
     "name": "stdout",
     "output_type": "stream",
     "text": [
      "10 - D_Loss: 1.2428652842839558, G_Loss: 1.7848987638950349\n"
     ]
    },
    {
     "name": "stderr",
     "output_type": "stream",
     "text": [
      "11: Training: 100%|██████████| 15/15 [00:01<00:00,  8.41it/s]\n"
     ]
    },
    {
     "name": "stdout",
     "output_type": "stream",
     "text": [
      "11 - D_Loss: 1.183156947294871, G_Loss: 1.6776503721872966\n"
     ]
    },
    {
     "name": "stderr",
     "output_type": "stream",
     "text": [
      "12: Training: 100%|██████████| 15/15 [00:01<00:00,  8.37it/s]\n"
     ]
    },
    {
     "name": "stdout",
     "output_type": "stream",
     "text": [
      "12 - D_Loss: 1.1162036220232645, G_Loss: 1.8185163378715514\n"
     ]
    },
    {
     "name": "stderr",
     "output_type": "stream",
     "text": [
      "13: Training: 100%|██████████| 15/15 [00:01<00:00,  8.41it/s]\n"
     ]
    },
    {
     "name": "stdout",
     "output_type": "stream",
     "text": [
      "13 - D_Loss: 1.5138514479001364, G_Loss: 1.2576385150353113\n"
     ]
    },
    {
     "name": "stderr",
     "output_type": "stream",
     "text": [
      "14: Training: 100%|██████████| 15/15 [00:01<00:00,  8.43it/s]\n"
     ]
    },
    {
     "name": "stdout",
     "output_type": "stream",
     "text": [
      "14 - D_Loss: 1.310145366191864, G_Loss: 1.2458798249562582\n"
     ]
    },
    {
     "name": "stderr",
     "output_type": "stream",
     "text": [
      "15: Training: 100%|██████████| 15/15 [00:01<00:00,  8.61it/s]\n"
     ]
    },
    {
     "name": "stdout",
     "output_type": "stream",
     "text": [
      "15 - D_Loss: 1.0066723664601644, G_Loss: 1.5219591418902079\n"
     ]
    },
    {
     "name": "stderr",
     "output_type": "stream",
     "text": [
      "16: Training: 100%|██████████| 15/15 [00:01<00:00,  8.50it/s]\n"
     ]
    },
    {
     "name": "stdout",
     "output_type": "stream",
     "text": [
      "16 - D_Loss: 0.9885579427083333, G_Loss: 2.033235541979472\n"
     ]
    },
    {
     "name": "stderr",
     "output_type": "stream",
     "text": [
      "17: Training: 100%|██████████| 15/15 [00:01<00:00,  8.48it/s]\n"
     ]
    },
    {
     "name": "stdout",
     "output_type": "stream",
     "text": [
      "17 - D_Loss: 1.107206928730011, G_Loss: 1.4426960905392965\n"
     ]
    },
    {
     "name": "stderr",
     "output_type": "stream",
     "text": [
      "18: Training: 100%|██████████| 15/15 [00:01<00:00,  8.60it/s]\n"
     ]
    },
    {
     "name": "stdout",
     "output_type": "stream",
     "text": [
      "18 - D_Loss: 1.141683248678843, G_Loss: 1.8725290030241013\n"
     ]
    },
    {
     "name": "stderr",
     "output_type": "stream",
     "text": [
      "19: Training: 100%|██████████| 15/15 [00:01<00:00,  8.53it/s]\n"
     ]
    },
    {
     "name": "stdout",
     "output_type": "stream",
     "text": [
      "19 - D_Loss: 1.0218364596366882, G_Loss: 1.9512303829193116\n"
     ]
    },
    {
     "name": "stderr",
     "output_type": "stream",
     "text": [
      "20: Training: 100%|██████████| 15/15 [00:01<00:00,  8.50it/s]\n"
     ]
    },
    {
     "name": "stdout",
     "output_type": "stream",
     "text": [
      "20 - D_Loss: 0.9220593174298605, G_Loss: 2.1559087693691255\n"
     ]
    },
    {
     "name": "stderr",
     "output_type": "stream",
     "text": [
      "21: Training: 100%|██████████| 15/15 [00:01<00:00,  8.47it/s]\n"
     ]
    },
    {
     "name": "stdout",
     "output_type": "stream",
     "text": [
      "21 - D_Loss: 0.3821916341781616, G_Loss: 3.2244922002156575\n"
     ]
    },
    {
     "name": "stderr",
     "output_type": "stream",
     "text": [
      "22: Training: 100%|██████████| 15/15 [00:01<00:00,  8.38it/s]\n"
     ]
    },
    {
     "name": "stdout",
     "output_type": "stream",
     "text": [
      "22 - D_Loss: 0.3161011745532354, G_Loss: 3.128520647684733\n"
     ]
    },
    {
     "name": "stderr",
     "output_type": "stream",
     "text": [
      "23: Training: 100%|██████████| 15/15 [00:01<00:00,  8.55it/s]\n"
     ]
    },
    {
     "name": "stdout",
     "output_type": "stream",
     "text": [
      "23 - D_Loss: 0.32282351950804394, G_Loss: 4.032790533701578\n"
     ]
    },
    {
     "name": "stderr",
     "output_type": "stream",
     "text": [
      "24: Training: 100%|██████████| 15/15 [00:01<00:00,  8.53it/s]\n"
     ]
    },
    {
     "name": "stdout",
     "output_type": "stream",
     "text": [
      "24 - D_Loss: 0.9006984571615855, G_Loss: 3.540442609786987\n"
     ]
    },
    {
     "name": "stderr",
     "output_type": "stream",
     "text": [
      "25: Training: 100%|██████████| 15/15 [00:01<00:00,  8.52it/s]\n"
     ]
    },
    {
     "name": "stdout",
     "output_type": "stream",
     "text": [
      "25 - D_Loss: 0.35881286263465884, G_Loss: 3.0862391153971354\n"
     ]
    },
    {
     "name": "stderr",
     "output_type": "stream",
     "text": [
      "26: Training: 100%|██████████| 15/15 [00:01<00:00,  8.49it/s]\n"
     ]
    },
    {
     "name": "stdout",
     "output_type": "stream",
     "text": [
      "26 - D_Loss: 0.39090054233868915, G_Loss: 2.7318180720011394\n"
     ]
    },
    {
     "name": "stderr",
     "output_type": "stream",
     "text": [
      "27: Training: 100%|██████████| 15/15 [00:01<00:00,  8.51it/s]\n"
     ]
    },
    {
     "name": "stdout",
     "output_type": "stream",
     "text": [
      "27 - D_Loss: 0.3720213790734609, G_Loss: 3.350004243850708\n"
     ]
    },
    {
     "name": "stderr",
     "output_type": "stream",
     "text": [
      "28: Training: 100%|██████████| 15/15 [00:01<00:00,  8.53it/s]\n"
     ]
    },
    {
     "name": "stdout",
     "output_type": "stream",
     "text": [
      "28 - D_Loss: 0.6837421814600627, G_Loss: 3.7813337723414104\n"
     ]
    },
    {
     "name": "stderr",
     "output_type": "stream",
     "text": [
      "29: Training: 100%|██████████| 15/15 [00:01<00:00,  8.45it/s]\n"
     ]
    },
    {
     "name": "stdout",
     "output_type": "stream",
     "text": [
      "29 - D_Loss: 0.5853376865386963, G_Loss: 2.9818517026801903\n"
     ]
    },
    {
     "name": "stderr",
     "output_type": "stream",
     "text": [
      "30: Training: 100%|██████████| 15/15 [00:01<00:00,  8.59it/s]\n"
     ]
    },
    {
     "name": "stdout",
     "output_type": "stream",
     "text": [
      "30 - D_Loss: 1.9387989560763041, G_Loss: 1.928641680876414\n"
     ]
    },
    {
     "name": "stderr",
     "output_type": "stream",
     "text": [
      "31: Training: 100%|██████████| 15/15 [00:01<00:00,  8.55it/s]\n"
     ]
    },
    {
     "name": "stdout",
     "output_type": "stream",
     "text": [
      "31 - D_Loss: 1.0358152747154237, G_Loss: 2.356425682703654\n"
     ]
    },
    {
     "name": "stderr",
     "output_type": "stream",
     "text": [
      "32: Training: 100%|██████████| 15/15 [00:01<00:00,  8.52it/s]\n"
     ]
    },
    {
     "name": "stdout",
     "output_type": "stream",
     "text": [
      "32 - D_Loss: 1.1368457118670146, G_Loss: 2.594703844189644\n"
     ]
    },
    {
     "name": "stderr",
     "output_type": "stream",
     "text": [
      "33: Training: 100%|██████████| 15/15 [00:01<00:00,  8.48it/s]\n"
     ]
    },
    {
     "name": "stdout",
     "output_type": "stream",
     "text": [
      "33 - D_Loss: 1.044344566265742, G_Loss: 2.2641155819098153\n"
     ]
    },
    {
     "name": "stderr",
     "output_type": "stream",
     "text": [
      "34: Training: 100%|██████████| 15/15 [00:01<00:00,  8.43it/s]\n"
     ]
    },
    {
     "name": "stdout",
     "output_type": "stream",
     "text": [
      "34 - D_Loss: 0.55948579510053, G_Loss: 2.359490251541138\n"
     ]
    },
    {
     "name": "stderr",
     "output_type": "stream",
     "text": [
      "35: Training: 100%|██████████| 15/15 [00:01<00:00,  8.52it/s]\n"
     ]
    },
    {
     "name": "stdout",
     "output_type": "stream",
     "text": [
      "35 - D_Loss: 0.4458172579606374, G_Loss: 2.637534006436666\n"
     ]
    },
    {
     "name": "stderr",
     "output_type": "stream",
     "text": [
      "36: Training: 100%|██████████| 15/15 [00:01<00:00,  8.58it/s]\n"
     ]
    },
    {
     "name": "stdout",
     "output_type": "stream",
     "text": [
      "36 - D_Loss: 0.5229803264141083, G_Loss: 2.86751972536246\n"
     ]
    },
    {
     "name": "stderr",
     "output_type": "stream",
     "text": [
      "37: Training: 100%|██████████| 15/15 [00:01<00:00,  8.48it/s]\n"
     ]
    },
    {
     "name": "stdout",
     "output_type": "stream",
     "text": [
      "37 - D_Loss: 0.8946000059445699, G_Loss: 3.1828446944554645\n"
     ]
    },
    {
     "name": "stderr",
     "output_type": "stream",
     "text": [
      "38: Training: 100%|██████████| 15/15 [00:01<00:00,  8.41it/s]\n"
     ]
    },
    {
     "name": "stdout",
     "output_type": "stream",
     "text": [
      "38 - D_Loss: 1.2592084129651389, G_Loss: 3.0610775887966155\n"
     ]
    },
    {
     "name": "stderr",
     "output_type": "stream",
     "text": [
      "39: Training: 100%|██████████| 15/15 [00:01<00:00,  8.33it/s]\n"
     ]
    },
    {
     "name": "stdout",
     "output_type": "stream",
     "text": [
      "39 - D_Loss: 1.1392066121101379, G_Loss: 2.6365666230519613\n"
     ]
    },
    {
     "name": "stderr",
     "output_type": "stream",
     "text": [
      "40: Training: 100%|██████████| 15/15 [00:01<00:00,  8.49it/s]\n"
     ]
    },
    {
     "name": "stdout",
     "output_type": "stream",
     "text": [
      "40 - D_Loss: 0.8085119664669037, G_Loss: 3.1421623388926188\n"
     ]
    },
    {
     "name": "stderr",
     "output_type": "stream",
     "text": [
      "41: Training: 100%|██████████| 15/15 [00:01<00:00,  8.53it/s]\n"
     ]
    },
    {
     "name": "stdout",
     "output_type": "stream",
     "text": [
      "41 - D_Loss: 0.7296029269695282, G_Loss: 2.0888150095939637\n"
     ]
    },
    {
     "name": "stderr",
     "output_type": "stream",
     "text": [
      "42: Training: 100%|██████████| 15/15 [00:01<00:00,  8.50it/s]\n"
     ]
    },
    {
     "name": "stdout",
     "output_type": "stream",
     "text": [
      "42 - D_Loss: 1.3701568086942038, G_Loss: 2.4488577405611673\n"
     ]
    },
    {
     "name": "stderr",
     "output_type": "stream",
     "text": [
      "43: Training: 100%|██████████| 15/15 [00:01<00:00,  8.44it/s]\n"
     ]
    },
    {
     "name": "stdout",
     "output_type": "stream",
     "text": [
      "43 - D_Loss: 0.7155498425165813, G_Loss: 2.6583356142044066\n"
     ]
    },
    {
     "name": "stderr",
     "output_type": "stream",
     "text": [
      "44: Training: 100%|██████████| 15/15 [00:01<00:00,  8.38it/s]\n"
     ]
    },
    {
     "name": "stdout",
     "output_type": "stream",
     "text": [
      "44 - D_Loss: 1.0411321779092153, G_Loss: 3.3993708451588946\n"
     ]
    },
    {
     "name": "stderr",
     "output_type": "stream",
     "text": [
      "45: Training: 100%|██████████| 15/15 [00:01<00:00,  8.48it/s]\n"
     ]
    },
    {
     "name": "stdout",
     "output_type": "stream",
     "text": [
      "45 - D_Loss: 0.7732407033443451, G_Loss: 2.829677939414978\n"
     ]
    },
    {
     "name": "stderr",
     "output_type": "stream",
     "text": [
      "46: Training: 100%|██████████| 15/15 [00:01<00:00,  8.50it/s]\n"
     ]
    },
    {
     "name": "stdout",
     "output_type": "stream",
     "text": [
      "46 - D_Loss: 0.6312658866246541, G_Loss: 2.3465615049004556\n"
     ]
    },
    {
     "name": "stderr",
     "output_type": "stream",
     "text": [
      "47: Training: 100%|██████████| 15/15 [00:01<00:00,  8.39it/s]\n"
     ]
    },
    {
     "name": "stdout",
     "output_type": "stream",
     "text": [
      "47 - D_Loss: 1.1207675059636435, G_Loss: 1.7749454895655314\n"
     ]
    },
    {
     "name": "stderr",
     "output_type": "stream",
     "text": [
      "48: Training: 100%|██████████| 15/15 [00:01<00:00,  8.43it/s]\n"
     ]
    },
    {
     "name": "stdout",
     "output_type": "stream",
     "text": [
      "48 - D_Loss: 0.9412065049012502, G_Loss: 2.1217447027564047\n"
     ]
    },
    {
     "name": "stderr",
     "output_type": "stream",
     "text": [
      "49: Training: 100%|██████████| 15/15 [00:01<00:00,  8.49it/s]\n"
     ]
    },
    {
     "name": "stdout",
     "output_type": "stream",
     "text": [
      "49 - D_Loss: 0.9537211279074351, G_Loss: 2.305461859703064\n"
     ]
    },
    {
     "name": "stderr",
     "output_type": "stream",
     "text": [
      "50: Training: 100%|██████████| 15/15 [00:01<00:00,  8.52it/s]\n"
     ]
    },
    {
     "name": "stdout",
     "output_type": "stream",
     "text": [
      "50 - D_Loss: 0.7627971371014913, G_Loss: 2.334650913874308\n"
     ]
    },
    {
     "name": "stderr",
     "output_type": "stream",
     "text": [
      "51: Training: 100%|██████████| 15/15 [00:01<00:00,  8.55it/s]\n"
     ]
    },
    {
     "name": "stdout",
     "output_type": "stream",
     "text": [
      "51 - D_Loss: 0.5530702829360962, G_Loss: 2.2981873671213786\n"
     ]
    },
    {
     "name": "stderr",
     "output_type": "stream",
     "text": [
      "52: Training: 100%|██████████| 15/15 [00:01<00:00,  8.48it/s]\n"
     ]
    },
    {
     "name": "stdout",
     "output_type": "stream",
     "text": [
      "52 - D_Loss: 0.6409287025531133, G_Loss: 2.749457017580668\n"
     ]
    },
    {
     "name": "stderr",
     "output_type": "stream",
     "text": [
      "53: Training: 100%|██████████| 15/15 [00:01<00:00,  8.33it/s]\n"
     ]
    },
    {
     "name": "stdout",
     "output_type": "stream",
     "text": [
      "53 - D_Loss: 0.570495331287384, G_Loss: 2.6195382674535117\n"
     ]
    },
    {
     "name": "stderr",
     "output_type": "stream",
     "text": [
      "54: Training: 100%|██████████| 15/15 [00:01<00:00,  8.51it/s]\n"
     ]
    },
    {
     "name": "stdout",
     "output_type": "stream",
     "text": [
      "54 - D_Loss: 0.4992574910322825, G_Loss: 2.737959694862366\n"
     ]
    },
    {
     "name": "stderr",
     "output_type": "stream",
     "text": [
      "55: Training: 100%|██████████| 15/15 [00:01<00:00,  8.54it/s]\n"
     ]
    },
    {
     "name": "stdout",
     "output_type": "stream",
     "text": [
      "55 - D_Loss: 0.619461065530777, G_Loss: 2.5287619988123575\n"
     ]
    },
    {
     "name": "stderr",
     "output_type": "stream",
     "text": [
      "56: Training: 100%|██████████| 15/15 [00:01<00:00,  8.53it/s]\n"
     ]
    },
    {
     "name": "stdout",
     "output_type": "stream",
     "text": [
      "56 - D_Loss: 1.1446117401123046, G_Loss: 2.0197330554326376\n"
     ]
    },
    {
     "name": "stderr",
     "output_type": "stream",
     "text": [
      "57: Training: 100%|██████████| 15/15 [00:01<00:00,  8.50it/s]\n"
     ]
    },
    {
     "name": "stdout",
     "output_type": "stream",
     "text": [
      "57 - D_Loss: 0.8474163770675659, G_Loss: 1.8600019256273905\n"
     ]
    },
    {
     "name": "stderr",
     "output_type": "stream",
     "text": [
      "58: Training: 100%|██████████| 15/15 [00:01<00:00,  8.45it/s]\n"
     ]
    },
    {
     "name": "stdout",
     "output_type": "stream",
     "text": [
      "58 - D_Loss: 0.9597715298334758, G_Loss: 2.423313013712565\n"
     ]
    },
    {
     "name": "stderr",
     "output_type": "stream",
     "text": [
      "59: Training: 100%|██████████| 15/15 [00:01<00:00,  8.34it/s]\n"
     ]
    },
    {
     "name": "stdout",
     "output_type": "stream",
     "text": [
      "59 - D_Loss: 0.7081193864345551, G_Loss: 2.2284172058105467\n"
     ]
    },
    {
     "name": "stderr",
     "output_type": "stream",
     "text": [
      "60: Training: 100%|██████████| 15/15 [00:01<00:00,  8.49it/s]\n"
     ]
    },
    {
     "name": "stdout",
     "output_type": "stream",
     "text": [
      "60 - D_Loss: 0.715141890446345, G_Loss: 2.663784416516622\n"
     ]
    },
    {
     "name": "stderr",
     "output_type": "stream",
     "text": [
      "61: Training: 100%|██████████| 15/15 [00:01<00:00,  8.22it/s]\n"
     ]
    },
    {
     "name": "stdout",
     "output_type": "stream",
     "text": [
      "61 - D_Loss: 0.8641172925631205, G_Loss: 2.2328100005785623\n"
     ]
    },
    {
     "name": "stderr",
     "output_type": "stream",
     "text": [
      "62: Training: 100%|██████████| 15/15 [00:01<00:00,  8.23it/s]\n"
     ]
    },
    {
     "name": "stdout",
     "output_type": "stream",
     "text": [
      "62 - D_Loss: 0.7415430347124735, G_Loss: 2.4793256918589273\n"
     ]
    },
    {
     "name": "stderr",
     "output_type": "stream",
     "text": [
      "63: Training: 100%|██████████| 15/15 [00:01<00:00,  8.44it/s]\n"
     ]
    },
    {
     "name": "stdout",
     "output_type": "stream",
     "text": [
      "63 - D_Loss: 0.7512615044911702, G_Loss: 2.1237553040186565\n"
     ]
    },
    {
     "name": "stderr",
     "output_type": "stream",
     "text": [
      "64: Training: 100%|██████████| 15/15 [00:01<00:00,  8.36it/s]\n"
     ]
    },
    {
     "name": "stdout",
     "output_type": "stream",
     "text": [
      "64 - D_Loss: 0.7729114572207133, G_Loss: 2.106310256322225\n"
     ]
    },
    {
     "name": "stderr",
     "output_type": "stream",
     "text": [
      "65: Training: 100%|██████████| 15/15 [00:01<00:00,  8.05it/s]\n"
     ]
    },
    {
     "name": "stdout",
     "output_type": "stream",
     "text": [
      "65 - D_Loss: 0.9752040465672811, G_Loss: 1.889801283677419\n"
     ]
    },
    {
     "name": "stderr",
     "output_type": "stream",
     "text": [
      "66: Training: 100%|██████████| 15/15 [00:01<00:00,  7.83it/s]\n"
     ]
    },
    {
     "name": "stdout",
     "output_type": "stream",
     "text": [
      "66 - D_Loss: 0.7712380806605021, G_Loss: 2.04822096824646\n"
     ]
    },
    {
     "name": "stderr",
     "output_type": "stream",
     "text": [
      "67: Training: 100%|██████████| 15/15 [00:02<00:00,  7.26it/s]\n"
     ]
    },
    {
     "name": "stdout",
     "output_type": "stream",
     "text": [
      "67 - D_Loss: 0.7560051441192627, G_Loss: 2.4112591822942098\n"
     ]
    },
    {
     "name": "stderr",
     "output_type": "stream",
     "text": [
      "68: Training: 100%|██████████| 15/15 [00:02<00:00,  7.31it/s]\n"
     ]
    },
    {
     "name": "stdout",
     "output_type": "stream",
     "text": [
      "68 - D_Loss: 0.8262544870376587, G_Loss: 2.3317957401275633\n"
     ]
    },
    {
     "name": "stderr",
     "output_type": "stream",
     "text": [
      "69: Training: 100%|██████████| 15/15 [00:01<00:00,  7.68it/s]\n"
     ]
    },
    {
     "name": "stdout",
     "output_type": "stream",
     "text": [
      "69 - D_Loss: 0.8399804870287577, G_Loss: 2.081170920530955\n"
     ]
    },
    {
     "name": "stderr",
     "output_type": "stream",
     "text": [
      "70: Training: 100%|██████████| 15/15 [00:01<00:00,  7.86it/s]\n"
     ]
    },
    {
     "name": "stdout",
     "output_type": "stream",
     "text": [
      "70 - D_Loss: 0.982574991385142, G_Loss: 2.3677738587061565\n"
     ]
    },
    {
     "name": "stderr",
     "output_type": "stream",
     "text": [
      "71: Training: 100%|██████████| 15/15 [00:01<00:00,  8.04it/s]\n"
     ]
    },
    {
     "name": "stdout",
     "output_type": "stream",
     "text": [
      "71 - D_Loss: 0.9116469422976176, G_Loss: 2.131500514348348\n"
     ]
    },
    {
     "name": "stderr",
     "output_type": "stream",
     "text": [
      "72: Training: 100%|██████████| 15/15 [00:01<00:00,  8.02it/s]\n"
     ]
    },
    {
     "name": "stdout",
     "output_type": "stream",
     "text": [
      "72 - D_Loss: 0.7992539286613465, G_Loss: 2.0884199062983195\n"
     ]
    },
    {
     "name": "stderr",
     "output_type": "stream",
     "text": [
      "73: Training: 100%|██████████| 15/15 [00:01<00:00,  8.43it/s]\n"
     ]
    },
    {
     "name": "stdout",
     "output_type": "stream",
     "text": [
      "73 - D_Loss: 0.8335839351018269, G_Loss: 2.0880841255187987\n"
     ]
    },
    {
     "name": "stderr",
     "output_type": "stream",
     "text": [
      "74: Training: 100%|██████████| 15/15 [00:01<00:00,  8.43it/s]\n"
     ]
    },
    {
     "name": "stdout",
     "output_type": "stream",
     "text": [
      "74 - D_Loss: 0.8153046329816183, G_Loss: 2.2989896297454835\n"
     ]
    },
    {
     "name": "stderr",
     "output_type": "stream",
     "text": [
      "75: Training: 100%|██████████| 15/15 [00:01<00:00,  8.13it/s]\n"
     ]
    },
    {
     "name": "stdout",
     "output_type": "stream",
     "text": [
      "75 - D_Loss: 1.0343119780222574, G_Loss: 1.886416757106781\n"
     ]
    },
    {
     "name": "stderr",
     "output_type": "stream",
     "text": [
      "76: Training: 100%|██████████| 15/15 [00:01<00:00,  8.30it/s]\n"
     ]
    },
    {
     "name": "stdout",
     "output_type": "stream",
     "text": [
      "76 - D_Loss: 0.8864278733730316, G_Loss: 2.1491201082865397\n"
     ]
    },
    {
     "name": "stderr",
     "output_type": "stream",
     "text": [
      "77: Training: 100%|██████████| 15/15 [00:01<00:00,  8.01it/s]\n"
     ]
    },
    {
     "name": "stdout",
     "output_type": "stream",
     "text": [
      "77 - D_Loss: 0.7580153822898865, G_Loss: 1.9900532722473145\n"
     ]
    },
    {
     "name": "stderr",
     "output_type": "stream",
     "text": [
      "78: Training: 100%|██████████| 15/15 [00:01<00:00,  8.18it/s]\n"
     ]
    },
    {
     "name": "stdout",
     "output_type": "stream",
     "text": [
      "78 - D_Loss: 0.7851392944653829, G_Loss: 2.0584308743476867\n"
     ]
    },
    {
     "name": "stderr",
     "output_type": "stream",
     "text": [
      "79: Training: 100%|██████████| 15/15 [00:01<00:00,  8.48it/s]\n"
     ]
    },
    {
     "name": "stdout",
     "output_type": "stream",
     "text": [
      "79 - D_Loss: 1.0828307112058004, G_Loss: 2.013448258241018\n"
     ]
    },
    {
     "name": "stderr",
     "output_type": "stream",
     "text": [
      "80: Training: 100%|██████████| 15/15 [00:01<00:00,  8.31it/s]\n"
     ]
    },
    {
     "name": "stdout",
     "output_type": "stream",
     "text": [
      "80 - D_Loss: 0.7534885783990224, G_Loss: 2.01716734568278\n"
     ]
    },
    {
     "name": "stderr",
     "output_type": "stream",
     "text": [
      "81: Training: 100%|██████████| 15/15 [00:01<00:00,  8.41it/s]\n"
     ]
    },
    {
     "name": "stdout",
     "output_type": "stream",
     "text": [
      "81 - D_Loss: 0.863412868976593, G_Loss: 1.9795056263605753\n"
     ]
    },
    {
     "name": "stderr",
     "output_type": "stream",
     "text": [
      "82: Training: 100%|██████████| 15/15 [00:01<00:00,  8.40it/s]\n"
     ]
    },
    {
     "name": "stdout",
     "output_type": "stream",
     "text": [
      "82 - D_Loss: 0.8144453287124633, G_Loss: 2.1361124912897744\n"
     ]
    },
    {
     "name": "stderr",
     "output_type": "stream",
     "text": [
      "83: Training: 100%|██████████| 15/15 [00:01<00:00,  8.37it/s]\n"
     ]
    },
    {
     "name": "stdout",
     "output_type": "stream",
     "text": [
      "83 - D_Loss: 0.8996965249379476, G_Loss: 2.2497843345006308\n"
     ]
    },
    {
     "name": "stderr",
     "output_type": "stream",
     "text": [
      "84: Training: 100%|██████████| 15/15 [00:01<00:00,  8.37it/s]\n"
     ]
    },
    {
     "name": "stdout",
     "output_type": "stream",
     "text": [
      "84 - D_Loss: 0.8189382910728454, G_Loss: 2.0505288521448772\n"
     ]
    },
    {
     "name": "stderr",
     "output_type": "stream",
     "text": [
      "85: Training: 100%|██████████| 15/15 [00:01<00:00,  8.45it/s]\n"
     ]
    },
    {
     "name": "stdout",
     "output_type": "stream",
     "text": [
      "85 - D_Loss: 1.133263639609019, G_Loss: 1.744779258966446\n"
     ]
    },
    {
     "name": "stderr",
     "output_type": "stream",
     "text": [
      "86: Training: 100%|██████████| 15/15 [00:01<00:00,  8.45it/s]\n"
     ]
    },
    {
     "name": "stdout",
     "output_type": "stream",
     "text": [
      "86 - D_Loss: 1.1687356034914653, G_Loss: 1.8198892672856648\n"
     ]
    },
    {
     "name": "stderr",
     "output_type": "stream",
     "text": [
      "87: Training: 100%|██████████| 15/15 [00:01<00:00,  8.09it/s]\n"
     ]
    },
    {
     "name": "stdout",
     "output_type": "stream",
     "text": [
      "87 - D_Loss: 1.0145727276802063, G_Loss: 1.8330847839514415\n"
     ]
    },
    {
     "name": "stderr",
     "output_type": "stream",
     "text": [
      "88: Training: 100%|██████████| 15/15 [00:01<00:00,  8.23it/s]\n"
     ]
    },
    {
     "name": "stdout",
     "output_type": "stream",
     "text": [
      "88 - D_Loss: 1.207998756567637, G_Loss: 1.81517413854599\n"
     ]
    },
    {
     "name": "stderr",
     "output_type": "stream",
     "text": [
      "89: Training: 100%|██████████| 15/15 [00:01<00:00,  8.27it/s]\n"
     ]
    },
    {
     "name": "stdout",
     "output_type": "stream",
     "text": [
      "89 - D_Loss: 0.8017157673835754, G_Loss: 2.3078373432159425\n"
     ]
    },
    {
     "name": "stderr",
     "output_type": "stream",
     "text": [
      "90: Training: 100%|██████████| 15/15 [00:01<00:00,  8.39it/s]\n"
     ]
    },
    {
     "name": "stdout",
     "output_type": "stream",
     "text": [
      "90 - D_Loss: 0.7612161954243978, G_Loss: 1.9387982333699862\n"
     ]
    },
    {
     "name": "stderr",
     "output_type": "stream",
     "text": [
      "91: Training: 100%|██████████| 15/15 [00:01<00:00,  8.50it/s]\n"
     ]
    },
    {
     "name": "stdout",
     "output_type": "stream",
     "text": [
      "91 - D_Loss: 1.3271202365557353, G_Loss: 2.009663200378418\n"
     ]
    },
    {
     "name": "stderr",
     "output_type": "stream",
     "text": [
      "92: Training: 100%|██████████| 15/15 [00:01<00:00,  8.49it/s]\n"
     ]
    },
    {
     "name": "stdout",
     "output_type": "stream",
     "text": [
      "92 - D_Loss: 0.7857578873634339, G_Loss: 2.04296555519104\n"
     ]
    },
    {
     "name": "stderr",
     "output_type": "stream",
     "text": [
      "93: Training: 100%|██████████| 15/15 [00:01<00:00,  8.44it/s]\n"
     ]
    },
    {
     "name": "stdout",
     "output_type": "stream",
     "text": [
      "93 - D_Loss: 0.7651403725147248, G_Loss: 2.115067517757416\n"
     ]
    },
    {
     "name": "stderr",
     "output_type": "stream",
     "text": [
      "94: Training: 100%|██████████| 15/15 [00:01<00:00,  8.55it/s]\n"
     ]
    },
    {
     "name": "stdout",
     "output_type": "stream",
     "text": [
      "94 - D_Loss: 0.5678616921106975, G_Loss: 2.2009861628214518\n"
     ]
    },
    {
     "name": "stderr",
     "output_type": "stream",
     "text": [
      "95: Training: 100%|██████████| 15/15 [00:01<00:00,  8.42it/s]\n"
     ]
    },
    {
     "name": "stdout",
     "output_type": "stream",
     "text": [
      "95 - D_Loss: 0.7458147684733073, G_Loss: 2.199530585606893\n"
     ]
    },
    {
     "name": "stderr",
     "output_type": "stream",
     "text": [
      "96: Training: 100%|██████████| 15/15 [00:01<00:00,  8.43it/s]\n"
     ]
    },
    {
     "name": "stdout",
     "output_type": "stream",
     "text": [
      "96 - D_Loss: 0.670053901274999, G_Loss: 2.17394224802653\n"
     ]
    },
    {
     "name": "stderr",
     "output_type": "stream",
     "text": [
      "97: Training: 100%|██████████| 15/15 [00:01<00:00,  8.54it/s]\n"
     ]
    },
    {
     "name": "stdout",
     "output_type": "stream",
     "text": [
      "97 - D_Loss: 0.812958445151647, G_Loss: 2.3612836519877116\n"
     ]
    },
    {
     "name": "stderr",
     "output_type": "stream",
     "text": [
      "98: Training: 100%|██████████| 15/15 [00:01<00:00,  8.45it/s]\n"
     ]
    },
    {
     "name": "stdout",
     "output_type": "stream",
     "text": [
      "98 - D_Loss: 0.8617624362309774, G_Loss: 2.186242039998372\n"
     ]
    },
    {
     "name": "stderr",
     "output_type": "stream",
     "text": [
      "99: Training: 100%|██████████| 15/15 [00:01<00:00,  8.47it/s]\n"
     ]
    },
    {
     "name": "stdout",
     "output_type": "stream",
     "text": [
      "99 - D_Loss: 1.128239099184672, G_Loss: 1.9423607846101125\n"
     ]
    },
    {
     "name": "stderr",
     "output_type": "stream",
     "text": [
      "100: Training: 100%|██████████| 15/15 [00:01<00:00,  8.44it/s]\n"
     ]
    },
    {
     "name": "stdout",
     "output_type": "stream",
     "text": [
      "100 - D_Loss: 0.7392328480879465, G_Loss: 2.09655974706014\n"
     ]
    },
    {
     "name": "stderr",
     "output_type": "stream",
     "text": [
      "101: Training: 100%|██████████| 15/15 [00:01<00:00,  8.50it/s]\n"
     ]
    },
    {
     "name": "stdout",
     "output_type": "stream",
     "text": [
      "101 - D_Loss: 0.7925710856914521, G_Loss: 2.2192083875338238\n"
     ]
    },
    {
     "name": "stderr",
     "output_type": "stream",
     "text": [
      "102: Training: 100%|██████████| 15/15 [00:01<00:00,  8.46it/s]\n"
     ]
    },
    {
     "name": "stdout",
     "output_type": "stream",
     "text": [
      "102 - D_Loss: 0.9407516360282898, G_Loss: 1.8587079246838887\n"
     ]
    },
    {
     "name": "stderr",
     "output_type": "stream",
     "text": [
      "103: Training: 100%|██████████| 15/15 [00:01<00:00,  8.48it/s]\n"
     ]
    },
    {
     "name": "stdout",
     "output_type": "stream",
     "text": [
      "103 - D_Loss: 0.9820613781611125, G_Loss: 2.1409115274747212\n"
     ]
    },
    {
     "name": "stderr",
     "output_type": "stream",
     "text": [
      "104: Training: 100%|██████████| 15/15 [00:01<00:00,  8.51it/s]\n"
     ]
    },
    {
     "name": "stdout",
     "output_type": "stream",
     "text": [
      "104 - D_Loss: 1.0302177707354228, G_Loss: 2.012252163887024\n"
     ]
    },
    {
     "name": "stderr",
     "output_type": "stream",
     "text": [
      "105: Training: 100%|██████████| 15/15 [00:01<00:00,  8.35it/s]\n"
     ]
    },
    {
     "name": "stdout",
     "output_type": "stream",
     "text": [
      "105 - D_Loss: 0.7290667573610942, G_Loss: 2.3181171814600625\n"
     ]
    },
    {
     "name": "stderr",
     "output_type": "stream",
     "text": [
      "106: Training: 100%|██████████| 15/15 [00:01<00:00,  8.40it/s]\n"
     ]
    },
    {
     "name": "stdout",
     "output_type": "stream",
     "text": [
      "106 - D_Loss: 0.6485759119192759, G_Loss: 2.1661553462346395\n"
     ]
    },
    {
     "name": "stderr",
     "output_type": "stream",
     "text": [
      "107: Training: 100%|██████████| 15/15 [00:01<00:00,  8.55it/s]\n"
     ]
    },
    {
     "name": "stdout",
     "output_type": "stream",
     "text": [
      "107 - D_Loss: 0.7987686117490133, G_Loss: 2.1444297552108766\n"
     ]
    },
    {
     "name": "stderr",
     "output_type": "stream",
     "text": [
      "108: Training: 100%|██████████| 15/15 [00:01<00:00,  8.48it/s]\n"
     ]
    },
    {
     "name": "stdout",
     "output_type": "stream",
     "text": [
      "108 - D_Loss: 0.9842584451039632, G_Loss: 2.096336762110392\n"
     ]
    },
    {
     "name": "stderr",
     "output_type": "stream",
     "text": [
      "109: Training: 100%|██████████| 15/15 [00:01<00:00,  8.48it/s]\n"
     ]
    },
    {
     "name": "stdout",
     "output_type": "stream",
     "text": [
      "109 - D_Loss: 0.7235319018363953, G_Loss: 2.4841949939727783\n"
     ]
    },
    {
     "name": "stderr",
     "output_type": "stream",
     "text": [
      "110: Training: 100%|██████████| 15/15 [00:01<00:00,  8.18it/s]\n"
     ]
    },
    {
     "name": "stdout",
     "output_type": "stream",
     "text": [
      "110 - D_Loss: 0.8206152458985646, G_Loss: 2.201169455051422\n"
     ]
    },
    {
     "name": "stderr",
     "output_type": "stream",
     "text": [
      "111: Training: 100%|██████████| 15/15 [00:01<00:00,  8.43it/s]\n"
     ]
    },
    {
     "name": "stdout",
     "output_type": "stream",
     "text": [
      "111 - D_Loss: 0.8397050201892853, G_Loss: 2.387104578812917\n"
     ]
    },
    {
     "name": "stderr",
     "output_type": "stream",
     "text": [
      "112: Training: 100%|██████████| 15/15 [00:01<00:00,  8.44it/s]\n"
     ]
    },
    {
     "name": "stdout",
     "output_type": "stream",
     "text": [
      "112 - D_Loss: 0.9667782644430797, G_Loss: 2.2172252933184304\n"
     ]
    },
    {
     "name": "stderr",
     "output_type": "stream",
     "text": [
      "113: Training: 100%|██████████| 15/15 [00:01<00:00,  8.41it/s]\n"
     ]
    },
    {
     "name": "stdout",
     "output_type": "stream",
     "text": [
      "113 - D_Loss: 0.6728385408719381, G_Loss: 2.299266850948334\n"
     ]
    },
    {
     "name": "stderr",
     "output_type": "stream",
     "text": [
      "114: Training: 100%|██████████| 15/15 [00:01<00:00,  8.39it/s]\n"
     ]
    },
    {
     "name": "stdout",
     "output_type": "stream",
     "text": [
      "114 - D_Loss: 0.7392395416895549, G_Loss: 2.3058120727539064\n"
     ]
    },
    {
     "name": "stderr",
     "output_type": "stream",
     "text": [
      "115: Training: 100%|██████████| 15/15 [00:01<00:00,  8.37it/s]\n"
     ]
    },
    {
     "name": "stdout",
     "output_type": "stream",
     "text": [
      "115 - D_Loss: 0.625732974211375, G_Loss: 2.1680423910419147\n"
     ]
    },
    {
     "name": "stderr",
     "output_type": "stream",
     "text": [
      "116: Training: 100%|██████████| 15/15 [00:01<00:00,  8.30it/s]\n"
     ]
    },
    {
     "name": "stdout",
     "output_type": "stream",
     "text": [
      "116 - D_Loss: 0.9052334666252136, G_Loss: 2.445168121655782\n"
     ]
    },
    {
     "name": "stderr",
     "output_type": "stream",
     "text": [
      "117: Training: 100%|██████████| 15/15 [00:01<00:00,  8.23it/s]\n"
     ]
    },
    {
     "name": "stdout",
     "output_type": "stream",
     "text": [
      "117 - D_Loss: 0.6361169199148814, G_Loss: 2.520153073469798\n"
     ]
    },
    {
     "name": "stderr",
     "output_type": "stream",
     "text": [
      "118: Training: 100%|██████████| 15/15 [00:01<00:00,  8.47it/s]\n"
     ]
    },
    {
     "name": "stdout",
     "output_type": "stream",
     "text": [
      "118 - D_Loss: 0.6689129988352458, G_Loss: 2.478394548098246\n"
     ]
    },
    {
     "name": "stderr",
     "output_type": "stream",
     "text": [
      "119: Training: 100%|██████████| 15/15 [00:01<00:00,  8.46it/s]\n"
     ]
    },
    {
     "name": "stdout",
     "output_type": "stream",
     "text": [
      "119 - D_Loss: 0.7644744932651519, G_Loss: 2.342753529548645\n"
     ]
    },
    {
     "name": "stderr",
     "output_type": "stream",
     "text": [
      "120: Training: 100%|██████████| 15/15 [00:01<00:00,  8.45it/s]\n"
     ]
    },
    {
     "name": "stdout",
     "output_type": "stream",
     "text": [
      "120 - D_Loss: 0.5496799111366272, G_Loss: 2.390432373682658\n"
     ]
    },
    {
     "name": "stderr",
     "output_type": "stream",
     "text": [
      "121: Training: 100%|██████████| 15/15 [00:01<00:00,  8.48it/s]\n"
     ]
    },
    {
     "name": "stdout",
     "output_type": "stream",
     "text": [
      "121 - D_Loss: 0.6063245505094528, G_Loss: 2.847309637069702\n"
     ]
    },
    {
     "name": "stderr",
     "output_type": "stream",
     "text": [
      "122: Training: 100%|██████████| 15/15 [00:01<00:00,  8.51it/s]\n"
     ]
    },
    {
     "name": "stdout",
     "output_type": "stream",
     "text": [
      "122 - D_Loss: 0.6253040164709092, G_Loss: 2.5914941703279815\n"
     ]
    },
    {
     "name": "stderr",
     "output_type": "stream",
     "text": [
      "123: Training: 100%|██████████| 15/15 [00:01<00:00,  8.45it/s]\n"
     ]
    },
    {
     "name": "stdout",
     "output_type": "stream",
     "text": [
      "123 - D_Loss: 1.0918972611427307, G_Loss: 2.3144270817438763\n"
     ]
    },
    {
     "name": "stderr",
     "output_type": "stream",
     "text": [
      "124: Training: 100%|██████████| 15/15 [00:01<00:00,  8.50it/s]\n"
     ]
    },
    {
     "name": "stdout",
     "output_type": "stream",
     "text": [
      "124 - D_Loss: 0.5565321147441864, G_Loss: 2.322770524024963\n"
     ]
    },
    {
     "name": "stderr",
     "output_type": "stream",
     "text": [
      "125: Training: 100%|██████████| 15/15 [00:01<00:00,  8.35it/s]\n"
     ]
    },
    {
     "name": "stdout",
     "output_type": "stream",
     "text": [
      "125 - D_Loss: 0.9034708499908447, G_Loss: 2.4591835896174112\n"
     ]
    },
    {
     "name": "stderr",
     "output_type": "stream",
     "text": [
      "126: Training: 100%|██████████| 15/15 [00:01<00:00,  8.46it/s]\n"
     ]
    },
    {
     "name": "stdout",
     "output_type": "stream",
     "text": [
      "126 - D_Loss: 0.5415773848692577, G_Loss: 2.589012098312378\n"
     ]
    },
    {
     "name": "stderr",
     "output_type": "stream",
     "text": [
      "127: Training: 100%|██████████| 15/15 [00:01<00:00,  8.51it/s]\n"
     ]
    },
    {
     "name": "stdout",
     "output_type": "stream",
     "text": [
      "127 - D_Loss: 0.8419253627459208, G_Loss: 2.497741042574247\n"
     ]
    },
    {
     "name": "stderr",
     "output_type": "stream",
     "text": [
      "128: Training: 100%|██████████| 15/15 [00:01<00:00,  8.42it/s]\n"
     ]
    },
    {
     "name": "stdout",
     "output_type": "stream",
     "text": [
      "128 - D_Loss: 0.860996679464976, G_Loss: 2.6085731585820517\n"
     ]
    },
    {
     "name": "stderr",
     "output_type": "stream",
     "text": [
      "129: Training: 100%|██████████| 15/15 [00:01<00:00,  8.51it/s]\n"
     ]
    },
    {
     "name": "stdout",
     "output_type": "stream",
     "text": [
      "129 - D_Loss: 0.6789964159329732, G_Loss: 2.312903968493144\n"
     ]
    },
    {
     "name": "stderr",
     "output_type": "stream",
     "text": [
      "130: Training: 100%|██████████| 15/15 [00:01<00:00,  8.45it/s]\n"
     ]
    },
    {
     "name": "stdout",
     "output_type": "stream",
     "text": [
      "130 - D_Loss: 1.5227911233901978, G_Loss: 1.6257165829340616\n"
     ]
    },
    {
     "name": "stderr",
     "output_type": "stream",
     "text": [
      "131: Training: 100%|██████████| 15/15 [00:01<00:00,  8.55it/s]\n"
     ]
    },
    {
     "name": "stdout",
     "output_type": "stream",
     "text": [
      "131 - D_Loss: 1.0119110067685446, G_Loss: 1.7087713042894999\n"
     ]
    },
    {
     "name": "stderr",
     "output_type": "stream",
     "text": [
      "132: Training: 100%|██████████| 15/15 [00:01<00:00,  8.43it/s]\n"
     ]
    },
    {
     "name": "stdout",
     "output_type": "stream",
     "text": [
      "132 - D_Loss: 0.6600624759991963, G_Loss: 2.1101850589116413\n"
     ]
    },
    {
     "name": "stderr",
     "output_type": "stream",
     "text": [
      "133: Training: 100%|██████████| 15/15 [00:01<00:00,  8.50it/s]\n"
     ]
    },
    {
     "name": "stdout",
     "output_type": "stream",
     "text": [
      "133 - D_Loss: 1.0884922862052917, G_Loss: 2.5082818349202474\n"
     ]
    },
    {
     "name": "stderr",
     "output_type": "stream",
     "text": [
      "134: Training: 100%|██████████| 15/15 [00:01<00:00,  8.53it/s]\n"
     ]
    },
    {
     "name": "stdout",
     "output_type": "stream",
     "text": [
      "134 - D_Loss: 0.5682911336421966, G_Loss: 2.2281801382700603\n"
     ]
    },
    {
     "name": "stderr",
     "output_type": "stream",
     "text": [
      "135: Training: 100%|██████████| 15/15 [00:01<00:00,  8.40it/s]\n"
     ]
    },
    {
     "name": "stdout",
     "output_type": "stream",
     "text": [
      "135 - D_Loss: 0.6836404701073965, G_Loss: 2.578054165840149\n"
     ]
    },
    {
     "name": "stderr",
     "output_type": "stream",
     "text": [
      "136: Training: 100%|██████████| 15/15 [00:01<00:00,  8.47it/s]\n"
     ]
    },
    {
     "name": "stdout",
     "output_type": "stream",
     "text": [
      "136 - D_Loss: 0.6813547939062119, G_Loss: 2.3086952129999796\n"
     ]
    },
    {
     "name": "stderr",
     "output_type": "stream",
     "text": [
      "137: Training: 100%|██████████| 15/15 [00:01<00:00,  8.43it/s]\n"
     ]
    },
    {
     "name": "stdout",
     "output_type": "stream",
     "text": [
      "137 - D_Loss: 0.5259936491648356, G_Loss: 2.3662955443064373\n"
     ]
    },
    {
     "name": "stderr",
     "output_type": "stream",
     "text": [
      "138: Training: 100%|██████████| 15/15 [00:01<00:00,  8.51it/s]\n"
     ]
    },
    {
     "name": "stdout",
     "output_type": "stream",
     "text": [
      "138 - D_Loss: 0.6009931405385335, G_Loss: 2.338940175374349\n"
     ]
    },
    {
     "name": "stderr",
     "output_type": "stream",
     "text": [
      "139: Training: 100%|██████████| 15/15 [00:01<00:00,  8.48it/s]\n"
     ]
    },
    {
     "name": "stdout",
     "output_type": "stream",
     "text": [
      "139 - D_Loss: 0.5934069573879241, G_Loss: 2.267043407758077\n"
     ]
    },
    {
     "name": "stderr",
     "output_type": "stream",
     "text": [
      "140: Training: 100%|██████████| 15/15 [00:01<00:00,  8.43it/s]\n"
     ]
    },
    {
     "name": "stdout",
     "output_type": "stream",
     "text": [
      "140 - D_Loss: 0.8399404207865397, G_Loss: 2.5842822074890135\n"
     ]
    },
    {
     "name": "stderr",
     "output_type": "stream",
     "text": [
      "141: Training: 100%|██████████| 15/15 [00:01<00:00,  8.46it/s]\n"
     ]
    },
    {
     "name": "stdout",
     "output_type": "stream",
     "text": [
      "141 - D_Loss: 0.5673109610875448, G_Loss: 2.8443142890930178\n"
     ]
    },
    {
     "name": "stderr",
     "output_type": "stream",
     "text": [
      "142: Training: 100%|██████████| 15/15 [00:01<00:00,  8.56it/s]\n"
     ]
    },
    {
     "name": "stdout",
     "output_type": "stream",
     "text": [
      "142 - D_Loss: 0.5585616389910381, G_Loss: 2.5395267407099404\n"
     ]
    },
    {
     "name": "stderr",
     "output_type": "stream",
     "text": [
      "143: Training: 100%|██████████| 15/15 [00:01<00:00,  8.41it/s]\n"
     ]
    },
    {
     "name": "stdout",
     "output_type": "stream",
     "text": [
      "143 - D_Loss: 0.6930445889631908, G_Loss: 2.282500465710958\n"
     ]
    },
    {
     "name": "stderr",
     "output_type": "stream",
     "text": [
      "144: Training: 100%|██████████| 15/15 [00:01<00:00,  8.24it/s]\n"
     ]
    },
    {
     "name": "stdout",
     "output_type": "stream",
     "text": [
      "144 - D_Loss: 1.1523728867371876, G_Loss: 2.11213396191597\n"
     ]
    },
    {
     "name": "stderr",
     "output_type": "stream",
     "text": [
      "145: Training: 100%|██████████| 15/15 [00:01<00:00,  8.36it/s]\n"
     ]
    },
    {
     "name": "stdout",
     "output_type": "stream",
     "text": [
      "145 - D_Loss: 0.9360105733076731, G_Loss: 2.182086483637492\n"
     ]
    },
    {
     "name": "stderr",
     "output_type": "stream",
     "text": [
      "146: Training: 100%|██████████| 15/15 [00:01<00:00,  8.49it/s]\n"
     ]
    },
    {
     "name": "stdout",
     "output_type": "stream",
     "text": [
      "146 - D_Loss: 0.8182214399178823, G_Loss: 2.308732604980469\n"
     ]
    },
    {
     "name": "stderr",
     "output_type": "stream",
     "text": [
      "147: Training: 100%|██████████| 15/15 [00:01<00:00,  8.49it/s]\n"
     ]
    },
    {
     "name": "stdout",
     "output_type": "stream",
     "text": [
      "147 - D_Loss: 0.7533720990022024, G_Loss: 2.2980408549308775\n"
     ]
    },
    {
     "name": "stderr",
     "output_type": "stream",
     "text": [
      "148: Training: 100%|██████████| 15/15 [00:01<00:00,  8.47it/s]\n"
     ]
    },
    {
     "name": "stdout",
     "output_type": "stream",
     "text": [
      "148 - D_Loss: 0.7125354290008545, G_Loss: 2.3398300965627032\n"
     ]
    },
    {
     "name": "stderr",
     "output_type": "stream",
     "text": [
      "149: Training: 100%|██████████| 15/15 [00:01<00:00,  8.53it/s]\n"
     ]
    },
    {
     "name": "stdout",
     "output_type": "stream",
     "text": [
      "149 - D_Loss: 1.049542369445165, G_Loss: 2.4042458136876426\n"
     ]
    },
    {
     "name": "stderr",
     "output_type": "stream",
     "text": [
      "150: Training: 100%|██████████| 15/15 [00:01<00:00,  8.42it/s]\n"
     ]
    },
    {
     "name": "stdout",
     "output_type": "stream",
     "text": [
      "150 - D_Loss: 0.5384914676348368, G_Loss: 2.2347696940104167\n"
     ]
    },
    {
     "name": "stderr",
     "output_type": "stream",
     "text": [
      "151: Training: 100%|██████████| 15/15 [00:01<00:00,  8.25it/s]\n"
     ]
    },
    {
     "name": "stdout",
     "output_type": "stream",
     "text": [
      "151 - D_Loss: 0.5327610035737356, G_Loss: 2.2912891705830893\n"
     ]
    },
    {
     "name": "stderr",
     "output_type": "stream",
     "text": [
      "152: Training: 100%|██████████| 15/15 [00:01<00:00,  8.47it/s]\n"
     ]
    },
    {
     "name": "stdout",
     "output_type": "stream",
     "text": [
      "152 - D_Loss: 0.5631737192471822, G_Loss: 2.454581697781881\n"
     ]
    },
    {
     "name": "stderr",
     "output_type": "stream",
     "text": [
      "153: Training: 100%|██████████| 15/15 [00:01<00:00,  8.52it/s]\n"
     ]
    },
    {
     "name": "stdout",
     "output_type": "stream",
     "text": [
      "153 - D_Loss: 0.7478394150733948, G_Loss: 2.476184638341268\n"
     ]
    },
    {
     "name": "stderr",
     "output_type": "stream",
     "text": [
      "154: Training: 100%|██████████| 15/15 [00:01<00:00,  8.50it/s]\n"
     ]
    },
    {
     "name": "stdout",
     "output_type": "stream",
     "text": [
      "154 - D_Loss: 0.7722740650177002, G_Loss: 2.50639816125234\n"
     ]
    },
    {
     "name": "stderr",
     "output_type": "stream",
     "text": [
      "155: Training: 100%|██████████| 15/15 [00:01<00:00,  8.32it/s]\n"
     ]
    },
    {
     "name": "stdout",
     "output_type": "stream",
     "text": [
      "155 - D_Loss: 1.0878540376822154, G_Loss: 2.494869621594747\n"
     ]
    },
    {
     "name": "stderr",
     "output_type": "stream",
     "text": [
      "156: Training: 100%|██████████| 15/15 [00:01<00:00,  8.49it/s]\n"
     ]
    },
    {
     "name": "stdout",
     "output_type": "stream",
     "text": [
      "156 - D_Loss: 0.7172488272190094, G_Loss: 2.5040873765945433\n"
     ]
    },
    {
     "name": "stderr",
     "output_type": "stream",
     "text": [
      "157: Training: 100%|██████████| 15/15 [00:01<00:00,  8.50it/s]\n"
     ]
    },
    {
     "name": "stdout",
     "output_type": "stream",
     "text": [
      "157 - D_Loss: 0.7392478883266449, G_Loss: 2.5439709424972534\n"
     ]
    },
    {
     "name": "stderr",
     "output_type": "stream",
     "text": [
      "158: Training: 100%|██████████| 15/15 [00:01<00:00,  8.47it/s]\n"
     ]
    },
    {
     "name": "stdout",
     "output_type": "stream",
     "text": [
      "158 - D_Loss: 0.628349628051122, G_Loss: 2.2843160152435305\n"
     ]
    },
    {
     "name": "stderr",
     "output_type": "stream",
     "text": [
      "159: Training: 100%|██████████| 15/15 [00:01<00:00,  8.42it/s]\n"
     ]
    },
    {
     "name": "stdout",
     "output_type": "stream",
     "text": [
      "159 - D_Loss: 0.473894598086675, G_Loss: 2.3397585074106853\n"
     ]
    },
    {
     "name": "stderr",
     "output_type": "stream",
     "text": [
      "160: Training: 100%|██████████| 15/15 [00:01<00:00,  8.35it/s]\n"
     ]
    },
    {
     "name": "stdout",
     "output_type": "stream",
     "text": [
      "160 - D_Loss: 0.6242332637310029, G_Loss: 2.0958842506011326\n"
     ]
    },
    {
     "name": "stderr",
     "output_type": "stream",
     "text": [
      "161: Training: 100%|██████████| 15/15 [00:01<00:00,  8.44it/s]\n"
     ]
    },
    {
     "name": "stdout",
     "output_type": "stream",
     "text": [
      "161 - D_Loss: 1.0870116194089254, G_Loss: 2.8270483632882435\n"
     ]
    },
    {
     "name": "stderr",
     "output_type": "stream",
     "text": [
      "162: Training: 100%|██████████| 15/15 [00:01<00:00,  8.41it/s]\n"
     ]
    },
    {
     "name": "stdout",
     "output_type": "stream",
     "text": [
      "162 - D_Loss: 0.9283977568149566, G_Loss: 2.328544513384501\n"
     ]
    },
    {
     "name": "stderr",
     "output_type": "stream",
     "text": [
      "163: Training: 100%|██████████| 15/15 [00:01<00:00,  8.40it/s]\n"
     ]
    },
    {
     "name": "stdout",
     "output_type": "stream",
     "text": [
      "163 - D_Loss: 0.7406756997108459, G_Loss: 2.215497612953186\n"
     ]
    },
    {
     "name": "stderr",
     "output_type": "stream",
     "text": [
      "164: Training: 100%|██████████| 15/15 [00:01<00:00,  8.46it/s]\n"
     ]
    },
    {
     "name": "stdout",
     "output_type": "stream",
     "text": [
      "164 - D_Loss: 0.661059699455897, G_Loss: 2.2354723453521728\n"
     ]
    },
    {
     "name": "stderr",
     "output_type": "stream",
     "text": [
      "165: Training: 100%|██████████| 15/15 [00:01<00:00,  8.39it/s]\n"
     ]
    },
    {
     "name": "stdout",
     "output_type": "stream",
     "text": [
      "165 - D_Loss: 0.6566633621851603, G_Loss: 2.3067535559336343\n"
     ]
    },
    {
     "name": "stderr",
     "output_type": "stream",
     "text": [
      "166: Training: 100%|██████████| 15/15 [00:01<00:00,  8.49it/s]\n"
     ]
    },
    {
     "name": "stdout",
     "output_type": "stream",
     "text": [
      "166 - D_Loss: 0.6950141767660777, G_Loss: 2.1965896765391033\n"
     ]
    },
    {
     "name": "stderr",
     "output_type": "stream",
     "text": [
      "167: Training: 100%|██████████| 15/15 [00:01<00:00,  8.52it/s]\n"
     ]
    },
    {
     "name": "stdout",
     "output_type": "stream",
     "text": [
      "167 - D_Loss: 0.79321790933609, G_Loss: 2.3377135197321572\n"
     ]
    },
    {
     "name": "stderr",
     "output_type": "stream",
     "text": [
      "168: Training: 100%|██████████| 15/15 [00:01<00:00,  8.48it/s]\n"
     ]
    },
    {
     "name": "stdout",
     "output_type": "stream",
     "text": [
      "168 - D_Loss: 1.1271796186765035, G_Loss: 2.366439167658488\n"
     ]
    },
    {
     "name": "stderr",
     "output_type": "stream",
     "text": [
      "169: Training: 100%|██████████| 15/15 [00:01<00:00,  8.41it/s]\n"
     ]
    },
    {
     "name": "stdout",
     "output_type": "stream",
     "text": [
      "169 - D_Loss: 0.7567676186561585, G_Loss: 2.2748026768366496\n"
     ]
    },
    {
     "name": "stderr",
     "output_type": "stream",
     "text": [
      "170: Training: 100%|██████████| 15/15 [00:01<00:00,  8.47it/s]\n"
     ]
    },
    {
     "name": "stdout",
     "output_type": "stream",
     "text": [
      "170 - D_Loss: 0.5954721887906392, G_Loss: 2.275669741630554\n"
     ]
    },
    {
     "name": "stderr",
     "output_type": "stream",
     "text": [
      "171: Training: 100%|██████████| 15/15 [00:01<00:00,  8.59it/s]\n"
     ]
    },
    {
     "name": "stdout",
     "output_type": "stream",
     "text": [
      "171 - D_Loss: 0.6787574569384257, G_Loss: 2.1799379189809165\n"
     ]
    },
    {
     "name": "stderr",
     "output_type": "stream",
     "text": [
      "172: Training: 100%|██████████| 15/15 [00:01<00:00,  8.48it/s]\n"
     ]
    },
    {
     "name": "stdout",
     "output_type": "stream",
     "text": [
      "172 - D_Loss: 0.8493963837623596, G_Loss: 2.468504619598389\n"
     ]
    },
    {
     "name": "stderr",
     "output_type": "stream",
     "text": [
      "173: Training: 100%|██████████| 15/15 [00:01<00:00,  8.50it/s]\n"
     ]
    },
    {
     "name": "stdout",
     "output_type": "stream",
     "text": [
      "173 - D_Loss: 0.859825466076533, G_Loss: 2.161732598145803\n"
     ]
    },
    {
     "name": "stderr",
     "output_type": "stream",
     "text": [
      "174: Training: 100%|██████████| 15/15 [00:01<00:00,  8.36it/s]\n"
     ]
    },
    {
     "name": "stdout",
     "output_type": "stream",
     "text": [
      "174 - D_Loss: 0.8685187061627706, G_Loss: 2.3597651084264117\n"
     ]
    },
    {
     "name": "stderr",
     "output_type": "stream",
     "text": [
      "175: Training: 100%|██████████| 15/15 [00:01<00:00,  8.52it/s]\n"
     ]
    },
    {
     "name": "stdout",
     "output_type": "stream",
     "text": [
      "175 - D_Loss: 0.7206873575846354, G_Loss: 2.394623629252116\n"
     ]
    },
    {
     "name": "stderr",
     "output_type": "stream",
     "text": [
      "176: Training: 100%|██████████| 15/15 [00:01<00:00,  8.46it/s]\n"
     ]
    },
    {
     "name": "stdout",
     "output_type": "stream",
     "text": [
      "176 - D_Loss: 0.6023085673650106, G_Loss: 2.4000258286794027\n"
     ]
    },
    {
     "name": "stderr",
     "output_type": "stream",
     "text": [
      "177: Training: 100%|██████████| 15/15 [00:01<00:00,  8.41it/s]\n"
     ]
    },
    {
     "name": "stdout",
     "output_type": "stream",
     "text": [
      "177 - D_Loss: 0.608630891640981, G_Loss: 2.4707131067911785\n"
     ]
    },
    {
     "name": "stderr",
     "output_type": "stream",
     "text": [
      "178: Training: 100%|██████████| 15/15 [00:01<00:00,  8.44it/s]\n"
     ]
    },
    {
     "name": "stdout",
     "output_type": "stream",
     "text": [
      "178 - D_Loss: 0.773356114824613, G_Loss: 2.355286451180776\n"
     ]
    },
    {
     "name": "stderr",
     "output_type": "stream",
     "text": [
      "179: Training: 100%|██████████| 15/15 [00:01<00:00,  8.50it/s]\n"
     ]
    },
    {
     "name": "stdout",
     "output_type": "stream",
     "text": [
      "179 - D_Loss: 0.8457753519217174, G_Loss: 2.2191429773966473\n"
     ]
    },
    {
     "name": "stderr",
     "output_type": "stream",
     "text": [
      "180: Training: 100%|██████████| 15/15 [00:01<00:00,  8.48it/s]\n"
     ]
    },
    {
     "name": "stdout",
     "output_type": "stream",
     "text": [
      "180 - D_Loss: 1.0185577710469564, G_Loss: 2.6706143021583557\n"
     ]
    },
    {
     "name": "stderr",
     "output_type": "stream",
     "text": [
      "181: Training: 100%|██████████| 15/15 [00:01<00:00,  8.44it/s]\n"
     ]
    },
    {
     "name": "stdout",
     "output_type": "stream",
     "text": [
      "181 - D_Loss: 0.6156029462814331, G_Loss: 2.546004891395569\n"
     ]
    },
    {
     "name": "stderr",
     "output_type": "stream",
     "text": [
      "182: Training: 100%|██████████| 15/15 [00:01<00:00,  8.49it/s]\n"
     ]
    },
    {
     "name": "stdout",
     "output_type": "stream",
     "text": [
      "182 - D_Loss: 0.6944654564062754, G_Loss: 2.3692329009373982\n"
     ]
    },
    {
     "name": "stderr",
     "output_type": "stream",
     "text": [
      "183: Training: 100%|██████████| 15/15 [00:01<00:00,  8.50it/s]\n"
     ]
    },
    {
     "name": "stdout",
     "output_type": "stream",
     "text": [
      "183 - D_Loss: 0.5707074503103892, G_Loss: 2.3180803060531616\n"
     ]
    },
    {
     "name": "stderr",
     "output_type": "stream",
     "text": [
      "184: Training: 100%|██████████| 15/15 [00:01<00:00,  8.47it/s]\n"
     ]
    },
    {
     "name": "stdout",
     "output_type": "stream",
     "text": [
      "184 - D_Loss: 0.7866876582304637, G_Loss: 2.2991108258565265\n"
     ]
    },
    {
     "name": "stderr",
     "output_type": "stream",
     "text": [
      "185: Training: 100%|██████████| 15/15 [00:01<00:00,  8.51it/s]\n"
     ]
    },
    {
     "name": "stdout",
     "output_type": "stream",
     "text": [
      "185 - D_Loss: 0.8964598079522451, G_Loss: 2.4109153906504313\n"
     ]
    },
    {
     "name": "stderr",
     "output_type": "stream",
     "text": [
      "186: Training: 100%|██████████| 15/15 [00:01<00:00,  8.52it/s]\n"
     ]
    },
    {
     "name": "stdout",
     "output_type": "stream",
     "text": [
      "186 - D_Loss: 1.059207836786906, G_Loss: 2.2773437102635703\n"
     ]
    },
    {
     "name": "stderr",
     "output_type": "stream",
     "text": [
      "187: Training: 100%|██████████| 15/15 [00:01<00:00,  8.38it/s]\n"
     ]
    },
    {
     "name": "stdout",
     "output_type": "stream",
     "text": [
      "187 - D_Loss: 0.831389860312144, G_Loss: 2.3683168331782025\n"
     ]
    },
    {
     "name": "stderr",
     "output_type": "stream",
     "text": [
      "188: Training: 100%|██████████| 15/15 [00:01<00:00,  8.53it/s]\n"
     ]
    },
    {
     "name": "stdout",
     "output_type": "stream",
     "text": [
      "188 - D_Loss: 0.44021209081013996, G_Loss: 2.5513169368108115\n"
     ]
    },
    {
     "name": "stderr",
     "output_type": "stream",
     "text": [
      "189: Training: 100%|██████████| 15/15 [00:01<00:00,  8.49it/s]\n"
     ]
    },
    {
     "name": "stdout",
     "output_type": "stream",
     "text": [
      "189 - D_Loss: 0.6576986988385518, G_Loss: 2.4291035175323485\n"
     ]
    },
    {
     "name": "stderr",
     "output_type": "stream",
     "text": [
      "190: Training: 100%|██████████| 15/15 [00:01<00:00,  8.53it/s]\n"
     ]
    },
    {
     "name": "stdout",
     "output_type": "stream",
     "text": [
      "190 - D_Loss: 0.8088545481363932, G_Loss: 2.2587480783462524\n"
     ]
    },
    {
     "name": "stderr",
     "output_type": "stream",
     "text": [
      "191: Training: 100%|██████████| 15/15 [00:01<00:00,  8.51it/s]\n"
     ]
    },
    {
     "name": "stdout",
     "output_type": "stream",
     "text": [
      "191 - D_Loss: 0.6556641817092895, G_Loss: 2.401906220118205\n"
     ]
    },
    {
     "name": "stderr",
     "output_type": "stream",
     "text": [
      "192: Training: 100%|██████████| 15/15 [00:01<00:00,  8.39it/s]\n"
     ]
    },
    {
     "name": "stdout",
     "output_type": "stream",
     "text": [
      "192 - D_Loss: 0.4712362339099248, G_Loss: 2.3044816891352338\n"
     ]
    },
    {
     "name": "stderr",
     "output_type": "stream",
     "text": [
      "193: Training: 100%|██████████| 15/15 [00:01<00:00,  8.47it/s]\n"
     ]
    },
    {
     "name": "stdout",
     "output_type": "stream",
     "text": [
      "193 - D_Loss: 0.6372857789198557, G_Loss: 2.3837640325228375\n"
     ]
    },
    {
     "name": "stderr",
     "output_type": "stream",
     "text": [
      "194: Training: 100%|██████████| 15/15 [00:01<00:00,  8.51it/s]\n"
     ]
    },
    {
     "name": "stdout",
     "output_type": "stream",
     "text": [
      "194 - D_Loss: 0.8053528885046641, G_Loss: 2.3763118267059324\n"
     ]
    },
    {
     "name": "stderr",
     "output_type": "stream",
     "text": [
      "195: Training: 100%|██████████| 15/15 [00:01<00:00,  8.46it/s]\n"
     ]
    },
    {
     "name": "stdout",
     "output_type": "stream",
     "text": [
      "195 - D_Loss: 0.463830778002739, G_Loss: 2.565276877085368\n"
     ]
    },
    {
     "name": "stderr",
     "output_type": "stream",
     "text": [
      "196: Training: 100%|██████████| 15/15 [00:01<00:00,  8.36it/s]\n"
     ]
    },
    {
     "name": "stdout",
     "output_type": "stream",
     "text": [
      "196 - D_Loss: 0.652909787495931, G_Loss: 2.6076569239298504\n"
     ]
    },
    {
     "name": "stderr",
     "output_type": "stream",
     "text": [
      "197: Training: 100%|██████████| 15/15 [00:01<00:00,  8.46it/s]\n"
     ]
    },
    {
     "name": "stdout",
     "output_type": "stream",
     "text": [
      "197 - D_Loss: 0.6235870679219564, G_Loss: 2.56419407526652\n"
     ]
    },
    {
     "name": "stderr",
     "output_type": "stream",
     "text": [
      "198: Training: 100%|██████████| 15/15 [00:01<00:00,  8.40it/s]\n"
     ]
    },
    {
     "name": "stdout",
     "output_type": "stream",
     "text": [
      "198 - D_Loss: 0.6631556530793508, G_Loss: 2.490570863087972\n"
     ]
    },
    {
     "name": "stderr",
     "output_type": "stream",
     "text": [
      "199: Training: 100%|██████████| 15/15 [00:01<00:00,  8.48it/s]\n"
     ]
    },
    {
     "name": "stdout",
     "output_type": "stream",
     "text": [
      "199 - D_Loss: 0.7359610001246134, G_Loss: 2.2858696142832438\n"
     ]
    },
    {
     "name": "stderr",
     "output_type": "stream",
     "text": [
      "200: Training: 100%|██████████| 15/15 [00:01<00:00,  8.50it/s]\n"
     ]
    },
    {
     "name": "stdout",
     "output_type": "stream",
     "text": [
      "200 - D_Loss: 0.7614817301432292, G_Loss: 2.384472672144572\n"
     ]
    },
    {
     "name": "stderr",
     "output_type": "stream",
     "text": [
      "201: Training: 100%|██████████| 15/15 [00:01<00:00,  8.26it/s]\n"
     ]
    },
    {
     "name": "stdout",
     "output_type": "stream",
     "text": [
      "201 - D_Loss: 0.853000940879186, G_Loss: 2.4102771282196045\n"
     ]
    },
    {
     "name": "stderr",
     "output_type": "stream",
     "text": [
      "202: Training: 100%|██████████| 15/15 [00:01<00:00,  8.53it/s]\n"
     ]
    },
    {
     "name": "stdout",
     "output_type": "stream",
     "text": [
      "202 - D_Loss: 0.6744361519813538, G_Loss: 2.64694774945577\n"
     ]
    },
    {
     "name": "stderr",
     "output_type": "stream",
     "text": [
      "203: Training: 100%|██████████| 15/15 [00:01<00:00,  8.42it/s]\n"
     ]
    },
    {
     "name": "stdout",
     "output_type": "stream",
     "text": [
      "203 - D_Loss: 0.644238277276357, G_Loss: 2.5535639842351276\n"
     ]
    },
    {
     "name": "stderr",
     "output_type": "stream",
     "text": [
      "204: Training: 100%|██████████| 15/15 [00:01<00:00,  8.45it/s]\n"
     ]
    },
    {
     "name": "stdout",
     "output_type": "stream",
     "text": [
      "204 - D_Loss: 0.651390031973521, G_Loss: 2.388433233896891\n"
     ]
    },
    {
     "name": "stderr",
     "output_type": "stream",
     "text": [
      "205: Training: 100%|██████████| 15/15 [00:01<00:00,  8.41it/s]\n"
     ]
    },
    {
     "name": "stdout",
     "output_type": "stream",
     "text": [
      "205 - D_Loss: 0.7384631931781769, G_Loss: 2.398299241065979\n"
     ]
    },
    {
     "name": "stderr",
     "output_type": "stream",
     "text": [
      "206: Training: 100%|██████████| 15/15 [00:01<00:00,  7.98it/s]\n"
     ]
    },
    {
     "name": "stdout",
     "output_type": "stream",
     "text": [
      "206 - D_Loss: 0.47816200653711954, G_Loss: 2.5728487014770507\n"
     ]
    },
    {
     "name": "stderr",
     "output_type": "stream",
     "text": [
      "207: Training: 100%|██████████| 15/15 [00:01<00:00,  8.05it/s]\n"
     ]
    },
    {
     "name": "stdout",
     "output_type": "stream",
     "text": [
      "207 - D_Loss: 0.47607906262079874, G_Loss: 2.824845385551453\n"
     ]
    },
    {
     "name": "stderr",
     "output_type": "stream",
     "text": [
      "208: Training: 100%|██████████| 15/15 [00:01<00:00,  8.28it/s]\n"
     ]
    },
    {
     "name": "stdout",
     "output_type": "stream",
     "text": [
      "208 - D_Loss: 0.5815901120503744, G_Loss: 2.634485133488973\n"
     ]
    },
    {
     "name": "stderr",
     "output_type": "stream",
     "text": [
      "209: Training: 100%|██████████| 15/15 [00:01<00:00,  8.39it/s]\n"
     ]
    },
    {
     "name": "stdout",
     "output_type": "stream",
     "text": [
      "209 - D_Loss: 0.9285733143488566, G_Loss: 2.6316863854726154\n"
     ]
    },
    {
     "name": "stderr",
     "output_type": "stream",
     "text": [
      "210: Training: 100%|██████████| 15/15 [00:01<00:00,  8.38it/s]\n"
     ]
    },
    {
     "name": "stdout",
     "output_type": "stream",
     "text": [
      "210 - D_Loss: 0.7365504403909048, G_Loss: 2.6713784615198772\n"
     ]
    },
    {
     "name": "stderr",
     "output_type": "stream",
     "text": [
      "211: Training: 100%|██████████| 15/15 [00:01<00:00,  8.50it/s]\n"
     ]
    },
    {
     "name": "stdout",
     "output_type": "stream",
     "text": [
      "211 - D_Loss: 0.8703015605608623, G_Loss: 2.557906913757324\n"
     ]
    },
    {
     "name": "stderr",
     "output_type": "stream",
     "text": [
      "212: Training: 100%|██████████| 15/15 [00:01<00:00,  8.45it/s]\n"
     ]
    },
    {
     "name": "stdout",
     "output_type": "stream",
     "text": [
      "212 - D_Loss: 0.9894666224718094, G_Loss: 2.5571547110875446\n"
     ]
    },
    {
     "name": "stderr",
     "output_type": "stream",
     "text": [
      "213: Training: 100%|██████████| 15/15 [00:01<00:00,  8.40it/s]\n"
     ]
    },
    {
     "name": "stdout",
     "output_type": "stream",
     "text": [
      "213 - D_Loss: 0.6464224914709727, G_Loss: 2.390002791086833\n"
     ]
    },
    {
     "name": "stderr",
     "output_type": "stream",
     "text": [
      "214: Training: 100%|██████████| 15/15 [00:01<00:00,  8.46it/s]\n"
     ]
    },
    {
     "name": "stdout",
     "output_type": "stream",
     "text": [
      "214 - D_Loss: 0.7584073921044667, G_Loss: 2.25053014755249\n"
     ]
    },
    {
     "name": "stderr",
     "output_type": "stream",
     "text": [
      "215: Training: 100%|██████████| 15/15 [00:01<00:00,  8.39it/s]\n"
     ]
    },
    {
     "name": "stdout",
     "output_type": "stream",
     "text": [
      "215 - D_Loss: 0.6544159690539042, G_Loss: 2.4509254455566407\n"
     ]
    },
    {
     "name": "stderr",
     "output_type": "stream",
     "text": [
      "216: Training: 100%|██████████| 15/15 [00:01<00:00,  8.41it/s]\n"
     ]
    },
    {
     "name": "stdout",
     "output_type": "stream",
     "text": [
      "216 - D_Loss: 0.6728119015693664, G_Loss: 2.3227185646692914\n"
     ]
    },
    {
     "name": "stderr",
     "output_type": "stream",
     "text": [
      "217: Training: 100%|██████████| 15/15 [00:01<00:00,  8.43it/s]\n"
     ]
    },
    {
     "name": "stdout",
     "output_type": "stream",
     "text": [
      "217 - D_Loss: 0.5697636365890503, G_Loss: 2.33659827709198\n"
     ]
    },
    {
     "name": "stderr",
     "output_type": "stream",
     "text": [
      "218: Training: 100%|██████████| 15/15 [00:01<00:00,  8.45it/s]\n"
     ]
    },
    {
     "name": "stdout",
     "output_type": "stream",
     "text": [
      "218 - D_Loss: 0.6105269114176433, G_Loss: 2.308925151824951\n"
     ]
    },
    {
     "name": "stderr",
     "output_type": "stream",
     "text": [
      "219: Training: 100%|██████████| 15/15 [00:01<00:00,  8.15it/s]\n"
     ]
    },
    {
     "name": "stdout",
     "output_type": "stream",
     "text": [
      "219 - D_Loss: 0.76377325852712, G_Loss: 2.3989761511484784\n"
     ]
    },
    {
     "name": "stderr",
     "output_type": "stream",
     "text": [
      "220: Training: 100%|██████████| 15/15 [00:01<00:00,  8.08it/s]\n"
     ]
    },
    {
     "name": "stdout",
     "output_type": "stream",
     "text": [
      "220 - D_Loss: 0.6293209075927735, G_Loss: 2.313954734802246\n"
     ]
    },
    {
     "name": "stderr",
     "output_type": "stream",
     "text": [
      "221: Training: 100%|██████████| 15/15 [00:01<00:00,  8.35it/s]\n"
     ]
    },
    {
     "name": "stdout",
     "output_type": "stream",
     "text": [
      "221 - D_Loss: 0.5427354037761688, G_Loss: 2.305772797266642\n"
     ]
    },
    {
     "name": "stderr",
     "output_type": "stream",
     "text": [
      "222: Training: 100%|██████████| 15/15 [00:01<00:00,  8.11it/s]\n"
     ]
    },
    {
     "name": "stdout",
     "output_type": "stream",
     "text": [
      "222 - D_Loss: 0.6896618942419688, G_Loss: 2.358833384513855\n"
     ]
    },
    {
     "name": "stderr",
     "output_type": "stream",
     "text": [
      "223: Training: 100%|██████████| 15/15 [00:01<00:00,  8.42it/s]\n"
     ]
    },
    {
     "name": "stdout",
     "output_type": "stream",
     "text": [
      "223 - D_Loss: 0.6637802531321844, G_Loss: 2.488689923286438\n"
     ]
    },
    {
     "name": "stderr",
     "output_type": "stream",
     "text": [
      "224: Training: 100%|██████████| 15/15 [00:01<00:00,  8.53it/s]\n"
     ]
    },
    {
     "name": "stdout",
     "output_type": "stream",
     "text": [
      "224 - D_Loss: 0.7447231789429982, G_Loss: 2.6604321002960205\n"
     ]
    },
    {
     "name": "stderr",
     "output_type": "stream",
     "text": [
      "225: Training: 100%|██████████| 15/15 [00:01<00:00,  8.43it/s]\n"
     ]
    },
    {
     "name": "stdout",
     "output_type": "stream",
     "text": [
      "225 - D_Loss: 0.6933061818281809, G_Loss: 2.523094681898753\n"
     ]
    },
    {
     "name": "stderr",
     "output_type": "stream",
     "text": [
      "226: Training: 100%|██████████| 15/15 [00:01<00:00,  8.38it/s]\n"
     ]
    },
    {
     "name": "stdout",
     "output_type": "stream",
     "text": [
      "226 - D_Loss: 0.7478480339050293, G_Loss: 2.664967385927836\n"
     ]
    },
    {
     "name": "stderr",
     "output_type": "stream",
     "text": [
      "227: Training: 100%|██████████| 15/15 [00:01<00:00,  8.41it/s]\n"
     ]
    },
    {
     "name": "stdout",
     "output_type": "stream",
     "text": [
      "227 - D_Loss: 0.6696015427509944, G_Loss: 2.715906500816345\n"
     ]
    },
    {
     "name": "stderr",
     "output_type": "stream",
     "text": [
      "228: Training: 100%|██████████| 15/15 [00:01<00:00,  8.35it/s]\n"
     ]
    },
    {
     "name": "stdout",
     "output_type": "stream",
     "text": [
      "228 - D_Loss: 0.5206725776195527, G_Loss: 2.432197364171346\n"
     ]
    },
    {
     "name": "stderr",
     "output_type": "stream",
     "text": [
      "229: Training: 100%|██████████| 15/15 [00:01<00:00,  8.30it/s]\n"
     ]
    },
    {
     "name": "stdout",
     "output_type": "stream",
     "text": [
      "229 - D_Loss: 0.5218998531500498, G_Loss: 2.491350269317627\n"
     ]
    },
    {
     "name": "stderr",
     "output_type": "stream",
     "text": [
      "230: Training: 100%|██████████| 15/15 [00:01<00:00,  8.29it/s]\n"
     ]
    },
    {
     "name": "stdout",
     "output_type": "stream",
     "text": [
      "230 - D_Loss: 0.4603017350037893, G_Loss: 2.4891445954640705\n"
     ]
    },
    {
     "name": "stderr",
     "output_type": "stream",
     "text": [
      "231: Training: 100%|██████████| 15/15 [00:01<00:00,  8.29it/s]\n"
     ]
    },
    {
     "name": "stdout",
     "output_type": "stream",
     "text": [
      "231 - D_Loss: 0.6469916065533956, G_Loss: 2.688871916135152\n"
     ]
    },
    {
     "name": "stderr",
     "output_type": "stream",
     "text": [
      "232: Training: 100%|██████████| 15/15 [00:01<00:00,  8.50it/s]\n"
     ]
    },
    {
     "name": "stdout",
     "output_type": "stream",
     "text": [
      "232 - D_Loss: 0.7581538041432698, G_Loss: 2.3760967016220094\n"
     ]
    },
    {
     "name": "stderr",
     "output_type": "stream",
     "text": [
      "233: Training: 100%|██████████| 15/15 [00:01<00:00,  8.46it/s]\n"
     ]
    },
    {
     "name": "stdout",
     "output_type": "stream",
     "text": [
      "233 - D_Loss: 0.7075971325238546, G_Loss: 2.2863829533259072\n"
     ]
    },
    {
     "name": "stderr",
     "output_type": "stream",
     "text": [
      "234: Training: 100%|██████████| 15/15 [00:01<00:00,  8.50it/s]\n"
     ]
    },
    {
     "name": "stdout",
     "output_type": "stream",
     "text": [
      "234 - D_Loss: 0.8908627092838287, G_Loss: 2.465515724817912\n"
     ]
    },
    {
     "name": "stderr",
     "output_type": "stream",
     "text": [
      "235: Training: 100%|██████████| 15/15 [00:01<00:00,  8.45it/s]\n"
     ]
    },
    {
     "name": "stdout",
     "output_type": "stream",
     "text": [
      "235 - D_Loss: 0.9890442967414856, G_Loss: 2.487313695748647\n"
     ]
    },
    {
     "name": "stderr",
     "output_type": "stream",
     "text": [
      "236: Training: 100%|██████████| 15/15 [00:01<00:00,  8.43it/s]\n"
     ]
    },
    {
     "name": "stdout",
     "output_type": "stream",
     "text": [
      "236 - D_Loss: 0.7856315056482951, G_Loss: 2.337005607287089\n"
     ]
    },
    {
     "name": "stderr",
     "output_type": "stream",
     "text": [
      "237: Training: 100%|██████████| 15/15 [00:01<00:00,  8.52it/s]\n"
     ]
    },
    {
     "name": "stdout",
     "output_type": "stream",
     "text": [
      "237 - D_Loss: 0.6860665202140808, G_Loss: 2.6228378772735597\n"
     ]
    },
    {
     "name": "stderr",
     "output_type": "stream",
     "text": [
      "238: Training: 100%|██████████| 15/15 [00:01<00:00,  8.51it/s]\n"
     ]
    },
    {
     "name": "stdout",
     "output_type": "stream",
     "text": [
      "238 - D_Loss: 0.8418950041135153, G_Loss: 2.4567071199417114\n"
     ]
    },
    {
     "name": "stderr",
     "output_type": "stream",
     "text": [
      "239: Training: 100%|██████████| 15/15 [00:01<00:00,  8.42it/s]\n"
     ]
    },
    {
     "name": "stdout",
     "output_type": "stream",
     "text": [
      "239 - D_Loss: 0.7542638162771861, G_Loss: 2.442466894785563\n"
     ]
    },
    {
     "name": "stderr",
     "output_type": "stream",
     "text": [
      "240: Training: 100%|██████████| 15/15 [00:01<00:00,  8.46it/s]\n"
     ]
    },
    {
     "name": "stdout",
     "output_type": "stream",
     "text": [
      "240 - D_Loss: 0.7772411495447159, G_Loss: 2.4763334592183432\n"
     ]
    },
    {
     "name": "stderr",
     "output_type": "stream",
     "text": [
      "241: Training: 100%|██████████| 15/15 [00:01<00:00,  8.47it/s]\n"
     ]
    },
    {
     "name": "stdout",
     "output_type": "stream",
     "text": [
      "241 - D_Loss: 0.6646998345851898, G_Loss: 2.472491784890493\n"
     ]
    },
    {
     "name": "stderr",
     "output_type": "stream",
     "text": [
      "242: Training: 100%|██████████| 15/15 [00:01<00:00,  8.50it/s]\n"
     ]
    },
    {
     "name": "stdout",
     "output_type": "stream",
     "text": [
      "242 - D_Loss: 0.7674536089102427, G_Loss: 2.3817505757013957\n"
     ]
    },
    {
     "name": "stderr",
     "output_type": "stream",
     "text": [
      "243: Training: 100%|██████████| 15/15 [00:01<00:00,  8.47it/s]\n"
     ]
    },
    {
     "name": "stdout",
     "output_type": "stream",
     "text": [
      "243 - D_Loss: 0.6580625136693319, G_Loss: 2.7365328391393025\n"
     ]
    },
    {
     "name": "stderr",
     "output_type": "stream",
     "text": [
      "244: Training: 100%|██████████| 15/15 [00:01<00:00,  8.41it/s]\n"
     ]
    },
    {
     "name": "stdout",
     "output_type": "stream",
     "text": [
      "244 - D_Loss: 0.5477514743804932, G_Loss: 2.390563639005025\n"
     ]
    },
    {
     "name": "stderr",
     "output_type": "stream",
     "text": [
      "245: Training: 100%|██████████| 15/15 [00:01<00:00,  8.54it/s]\n"
     ]
    },
    {
     "name": "stdout",
     "output_type": "stream",
     "text": [
      "245 - D_Loss: 0.6350253542264302, G_Loss: 2.329376220703125\n"
     ]
    },
    {
     "name": "stderr",
     "output_type": "stream",
     "text": [
      "246: Training: 100%|██████████| 15/15 [00:01<00:00,  8.48it/s]\n"
     ]
    },
    {
     "name": "stdout",
     "output_type": "stream",
     "text": [
      "246 - D_Loss: 0.6192585130532583, G_Loss: 2.35623258749644\n"
     ]
    },
    {
     "name": "stderr",
     "output_type": "stream",
     "text": [
      "247: Training: 100%|██████████| 15/15 [00:01<00:00,  8.53it/s]\n"
     ]
    },
    {
     "name": "stdout",
     "output_type": "stream",
     "text": [
      "247 - D_Loss: 0.6804173310597738, G_Loss: 2.54874001344045\n"
     ]
    },
    {
     "name": "stderr",
     "output_type": "stream",
     "text": [
      "248: Training: 100%|██████████| 15/15 [00:01<00:00,  8.45it/s]\n"
     ]
    },
    {
     "name": "stdout",
     "output_type": "stream",
     "text": [
      "248 - D_Loss: 0.5811858673890432, G_Loss: 2.397819721698761\n"
     ]
    },
    {
     "name": "stderr",
     "output_type": "stream",
     "text": [
      "249: Training: 100%|██████████| 15/15 [00:01<00:00,  8.32it/s]\n"
     ]
    },
    {
     "name": "stdout",
     "output_type": "stream",
     "text": [
      "249 - D_Loss: 0.705120180050532, G_Loss: 2.679155969619751\n"
     ]
    },
    {
     "name": "stderr",
     "output_type": "stream",
     "text": [
      "250: Training: 100%|██████████| 15/15 [00:01<00:00,  8.48it/s]\n"
     ]
    },
    {
     "name": "stdout",
     "output_type": "stream",
     "text": [
      "250 - D_Loss: 0.6770960410435994, G_Loss: 2.2531310041745503\n"
     ]
    },
    {
     "name": "stderr",
     "output_type": "stream",
     "text": [
      "251: Training: 100%|██████████| 15/15 [00:01<00:00,  8.38it/s]\n"
     ]
    },
    {
     "name": "stdout",
     "output_type": "stream",
     "text": [
      "251 - D_Loss: 0.6042769213517507, G_Loss: 2.4716493129730224\n"
     ]
    },
    {
     "name": "stderr",
     "output_type": "stream",
     "text": [
      "252: Training: 100%|██████████| 15/15 [00:01<00:00,  8.53it/s]\n"
     ]
    },
    {
     "name": "stdout",
     "output_type": "stream",
     "text": [
      "252 - D_Loss: 0.6389986197153728, G_Loss: 2.3721885840098063\n"
     ]
    },
    {
     "name": "stderr",
     "output_type": "stream",
     "text": [
      "253: Training: 100%|██████████| 15/15 [00:01<00:00,  8.56it/s]\n"
     ]
    },
    {
     "name": "stdout",
     "output_type": "stream",
     "text": [
      "253 - D_Loss: 0.7243029276529948, G_Loss: 2.451948547363281\n"
     ]
    },
    {
     "name": "stderr",
     "output_type": "stream",
     "text": [
      "254: Training: 100%|██████████| 15/15 [00:01<00:00,  8.57it/s]\n"
     ]
    },
    {
     "name": "stdout",
     "output_type": "stream",
     "text": [
      "254 - D_Loss: 0.5096321662267049, G_Loss: 2.670889202753703\n"
     ]
    },
    {
     "name": "stderr",
     "output_type": "stream",
     "text": [
      "255: Training: 100%|██████████| 15/15 [00:01<00:00,  8.54it/s]\n"
     ]
    },
    {
     "name": "stdout",
     "output_type": "stream",
     "text": [
      "255 - D_Loss: 0.5180763999621073, G_Loss: 2.2652320782343547\n"
     ]
    },
    {
     "name": "stderr",
     "output_type": "stream",
     "text": [
      "256: Training: 100%|██████████| 15/15 [00:01<00:00,  8.66it/s]\n"
     ]
    },
    {
     "name": "stdout",
     "output_type": "stream",
     "text": [
      "256 - D_Loss: 0.6404511213302613, G_Loss: 2.129605225721995\n"
     ]
    },
    {
     "name": "stderr",
     "output_type": "stream",
     "text": [
      "257: Training: 100%|██████████| 15/15 [00:01<00:00,  9.00it/s]\n"
     ]
    },
    {
     "name": "stdout",
     "output_type": "stream",
     "text": [
      "257 - D_Loss: 0.6475669384002686, G_Loss: 2.502456227938334\n"
     ]
    },
    {
     "name": "stderr",
     "output_type": "stream",
     "text": [
      "258: Training: 100%|██████████| 15/15 [00:01<00:00,  9.00it/s]\n"
     ]
    },
    {
     "name": "stdout",
     "output_type": "stream",
     "text": [
      "258 - D_Loss: 0.46506445010503134, G_Loss: 2.414235782623291\n"
     ]
    },
    {
     "name": "stderr",
     "output_type": "stream",
     "text": [
      "259: Training: 100%|██████████| 15/15 [00:01<00:00,  8.89it/s]\n"
     ]
    },
    {
     "name": "stdout",
     "output_type": "stream",
     "text": [
      "259 - D_Loss: 0.4545108755429586, G_Loss: 2.4364033301671344\n"
     ]
    },
    {
     "name": "stderr",
     "output_type": "stream",
     "text": [
      "260: Training: 100%|██████████| 15/15 [00:01<00:00,  8.80it/s]\n"
     ]
    },
    {
     "name": "stdout",
     "output_type": "stream",
     "text": [
      "260 - D_Loss: 0.5135526627302169, G_Loss: 2.270029004414876\n"
     ]
    },
    {
     "name": "stderr",
     "output_type": "stream",
     "text": [
      "261: Training: 100%|██████████| 15/15 [00:01<00:00,  9.03it/s]\n"
     ]
    },
    {
     "name": "stdout",
     "output_type": "stream",
     "text": [
      "261 - D_Loss: 0.4987354298432668, G_Loss: 2.4067835489908855\n"
     ]
    },
    {
     "name": "stderr",
     "output_type": "stream",
     "text": [
      "262: Training: 100%|██████████| 15/15 [00:01<00:00,  8.85it/s]\n"
     ]
    },
    {
     "name": "stdout",
     "output_type": "stream",
     "text": [
      "262 - D_Loss: 0.6629716038703919, G_Loss: 2.560334499677022\n"
     ]
    },
    {
     "name": "stderr",
     "output_type": "stream",
     "text": [
      "263: Training: 100%|██████████| 15/15 [00:01<00:00,  8.98it/s]\n"
     ]
    },
    {
     "name": "stdout",
     "output_type": "stream",
     "text": [
      "263 - D_Loss: 0.4915121912956238, G_Loss: 2.754126723607381\n"
     ]
    },
    {
     "name": "stderr",
     "output_type": "stream",
     "text": [
      "264: Training: 100%|██████████| 15/15 [00:01<00:00,  8.89it/s]\n"
     ]
    },
    {
     "name": "stdout",
     "output_type": "stream",
     "text": [
      "264 - D_Loss: 0.47056223352750143, G_Loss: 2.3013337373733522\n"
     ]
    },
    {
     "name": "stderr",
     "output_type": "stream",
     "text": [
      "265: Training: 100%|██████████| 15/15 [00:01<00:00,  8.98it/s]\n"
     ]
    },
    {
     "name": "stdout",
     "output_type": "stream",
     "text": [
      "265 - D_Loss: 0.5012785494327545, G_Loss: 2.449049687385559\n"
     ]
    },
    {
     "name": "stderr",
     "output_type": "stream",
     "text": [
      "266: Training: 100%|██████████| 15/15 [00:01<00:00,  9.03it/s]\n"
     ]
    },
    {
     "name": "stdout",
     "output_type": "stream",
     "text": [
      "266 - D_Loss: 0.4827267090479533, G_Loss: 2.6783589363098144\n"
     ]
    },
    {
     "name": "stderr",
     "output_type": "stream",
     "text": [
      "267: Training: 100%|██████████| 15/15 [00:01<00:00,  8.90it/s]\n"
     ]
    },
    {
     "name": "stdout",
     "output_type": "stream",
     "text": [
      "267 - D_Loss: 0.5139009515444438, G_Loss: 2.4614193161328632\n"
     ]
    },
    {
     "name": "stderr",
     "output_type": "stream",
     "text": [
      "268: Training: 100%|██████████| 15/15 [00:01<00:00,  9.02it/s]\n"
     ]
    },
    {
     "name": "stdout",
     "output_type": "stream",
     "text": [
      "268 - D_Loss: 0.7514178584019343, G_Loss: 2.8091838439305623\n"
     ]
    },
    {
     "name": "stderr",
     "output_type": "stream",
     "text": [
      "269: Training: 100%|██████████| 15/15 [00:01<00:00,  8.97it/s]\n"
     ]
    },
    {
     "name": "stdout",
     "output_type": "stream",
     "text": [
      "269 - D_Loss: 0.5589607040087382, G_Loss: 2.6082006374994915\n"
     ]
    },
    {
     "name": "stderr",
     "output_type": "stream",
     "text": [
      "270: Training: 100%|██████████| 15/15 [00:01<00:00,  8.87it/s]\n"
     ]
    },
    {
     "name": "stdout",
     "output_type": "stream",
     "text": [
      "270 - D_Loss: 0.9410289525985718, G_Loss: 2.46015784740448\n"
     ]
    },
    {
     "name": "stderr",
     "output_type": "stream",
     "text": [
      "271: Training: 100%|██████████| 15/15 [00:01<00:00,  8.88it/s]\n"
     ]
    },
    {
     "name": "stdout",
     "output_type": "stream",
     "text": [
      "271 - D_Loss: 0.6498943547407786, G_Loss: 2.7123134613037108\n"
     ]
    },
    {
     "name": "stderr",
     "output_type": "stream",
     "text": [
      "272: Training: 100%|██████████| 15/15 [00:01<00:00,  8.88it/s]\n"
     ]
    },
    {
     "name": "stdout",
     "output_type": "stream",
     "text": [
      "272 - D_Loss: 0.7312725762526194, G_Loss: 2.333684460322062\n"
     ]
    },
    {
     "name": "stderr",
     "output_type": "stream",
     "text": [
      "273: Training: 100%|██████████| 15/15 [00:01<00:00,  8.94it/s]\n"
     ]
    },
    {
     "name": "stdout",
     "output_type": "stream",
     "text": [
      "273 - D_Loss: 0.5703861077626546, G_Loss: 2.4994539896647137\n"
     ]
    },
    {
     "name": "stderr",
     "output_type": "stream",
     "text": [
      "274: Training: 100%|██████████| 15/15 [00:01<00:00,  9.04it/s]\n"
     ]
    },
    {
     "name": "stdout",
     "output_type": "stream",
     "text": [
      "274 - D_Loss: 0.5133595585823059, G_Loss: 2.3422115325927733\n"
     ]
    },
    {
     "name": "stderr",
     "output_type": "stream",
     "text": [
      "275: Training: 100%|██████████| 15/15 [00:01<00:00,  8.98it/s]\n"
     ]
    },
    {
     "name": "stdout",
     "output_type": "stream",
     "text": [
      "275 - D_Loss: 0.6814236760139465, G_Loss: 2.425499931971232\n"
     ]
    },
    {
     "name": "stderr",
     "output_type": "stream",
     "text": [
      "276: Training: 100%|██████████| 15/15 [00:01<00:00,  9.00it/s]\n"
     ]
    },
    {
     "name": "stdout",
     "output_type": "stream",
     "text": [
      "276 - D_Loss: 0.6817999660968781, G_Loss: 2.5823360363642376\n"
     ]
    },
    {
     "name": "stderr",
     "output_type": "stream",
     "text": [
      "277: Training: 100%|██████████| 15/15 [00:01<00:00,  8.91it/s]\n"
     ]
    },
    {
     "name": "stdout",
     "output_type": "stream",
     "text": [
      "277 - D_Loss: 0.8127482563257218, G_Loss: 2.5764288902282715\n"
     ]
    },
    {
     "name": "stderr",
     "output_type": "stream",
     "text": [
      "278: Training: 100%|██████████| 15/15 [00:01<00:00,  8.94it/s]\n"
     ]
    },
    {
     "name": "stdout",
     "output_type": "stream",
     "text": [
      "278 - D_Loss: 0.6481444617112477, G_Loss: 2.400043280919393\n"
     ]
    },
    {
     "name": "stderr",
     "output_type": "stream",
     "text": [
      "279: Training: 100%|██████████| 15/15 [00:01<00:00,  8.90it/s]\n"
     ]
    },
    {
     "name": "stdout",
     "output_type": "stream",
     "text": [
      "279 - D_Loss: 0.7451429863770803, G_Loss: 2.3493913650512694\n"
     ]
    },
    {
     "name": "stderr",
     "output_type": "stream",
     "text": [
      "280: Training: 100%|██████████| 15/15 [00:01<00:00,  8.87it/s]\n"
     ]
    },
    {
     "name": "stdout",
     "output_type": "stream",
     "text": [
      "280 - D_Loss: 0.6891630868117015, G_Loss: 2.6933775424957274\n"
     ]
    },
    {
     "name": "stderr",
     "output_type": "stream",
     "text": [
      "281: Training: 100%|██████████| 15/15 [00:01<00:00,  8.93it/s]\n"
     ]
    },
    {
     "name": "stdout",
     "output_type": "stream",
     "text": [
      "281 - D_Loss: 0.5617603719234466, G_Loss: 2.567234985033671\n"
     ]
    },
    {
     "name": "stderr",
     "output_type": "stream",
     "text": [
      "282: Training: 100%|██████████| 15/15 [00:01<00:00,  8.96it/s]\n"
     ]
    },
    {
     "name": "stdout",
     "output_type": "stream",
     "text": [
      "282 - D_Loss: 0.6475905021031697, G_Loss: 2.611525050799052\n"
     ]
    },
    {
     "name": "stderr",
     "output_type": "stream",
     "text": [
      "283: Training: 100%|██████████| 15/15 [00:01<00:00,  8.86it/s]\n"
     ]
    },
    {
     "name": "stdout",
     "output_type": "stream",
     "text": [
      "283 - D_Loss: 0.5105747878551483, G_Loss: 2.7798168341318767\n"
     ]
    },
    {
     "name": "stderr",
     "output_type": "stream",
     "text": [
      "284: Training: 100%|██████████| 15/15 [00:01<00:00,  8.74it/s]\n"
     ]
    },
    {
     "name": "stdout",
     "output_type": "stream",
     "text": [
      "284 - D_Loss: 0.5563617666562398, G_Loss: 2.470962905883789\n"
     ]
    },
    {
     "name": "stderr",
     "output_type": "stream",
     "text": [
      "285: Training: 100%|██████████| 15/15 [00:01<00:00,  8.64it/s]\n"
     ]
    },
    {
     "name": "stdout",
     "output_type": "stream",
     "text": [
      "285 - D_Loss: 0.49073230624198916, G_Loss: 3.1690186818440753\n"
     ]
    },
    {
     "name": "stderr",
     "output_type": "stream",
     "text": [
      "286: Training: 100%|██████████| 15/15 [00:01<00:00,  8.95it/s]\n"
     ]
    },
    {
     "name": "stdout",
     "output_type": "stream",
     "text": [
      "286 - D_Loss: 0.5321603059768677, G_Loss: 2.645787008603414\n"
     ]
    },
    {
     "name": "stderr",
     "output_type": "stream",
     "text": [
      "287: Training: 100%|██████████| 15/15 [00:01<00:00,  8.90it/s]\n"
     ]
    },
    {
     "name": "stdout",
     "output_type": "stream",
     "text": [
      "287 - D_Loss: 0.585268638531367, G_Loss: 2.8352182706197104\n"
     ]
    },
    {
     "name": "stderr",
     "output_type": "stream",
     "text": [
      "288: Training: 100%|██████████| 15/15 [00:01<00:00,  8.91it/s]\n"
     ]
    },
    {
     "name": "stdout",
     "output_type": "stream",
     "text": [
      "288 - D_Loss: 0.5922445585330327, G_Loss: 2.603891626993815\n"
     ]
    },
    {
     "name": "stderr",
     "output_type": "stream",
     "text": [
      "289: Training: 100%|██████████| 15/15 [00:01<00:00,  8.85it/s]\n"
     ]
    },
    {
     "name": "stdout",
     "output_type": "stream",
     "text": [
      "289 - D_Loss: 0.5191331187884013, G_Loss: 2.673471275965373\n"
     ]
    },
    {
     "name": "stderr",
     "output_type": "stream",
     "text": [
      "290: Training: 100%|██████████| 15/15 [00:01<00:00,  8.95it/s]\n"
     ]
    },
    {
     "name": "stdout",
     "output_type": "stream",
     "text": [
      "290 - D_Loss: 0.6921290775140126, G_Loss: 2.5280017614364625\n"
     ]
    },
    {
     "name": "stderr",
     "output_type": "stream",
     "text": [
      "291: Training: 100%|██████████| 15/15 [00:01<00:00,  8.79it/s]\n"
     ]
    },
    {
     "name": "stdout",
     "output_type": "stream",
     "text": [
      "291 - D_Loss: 0.6316345075766245, G_Loss: 2.822004238764445\n"
     ]
    },
    {
     "name": "stderr",
     "output_type": "stream",
     "text": [
      "292: Training: 100%|██████████| 15/15 [00:01<00:00,  8.96it/s]\n"
     ]
    },
    {
     "name": "stdout",
     "output_type": "stream",
     "text": [
      "292 - D_Loss: 0.5948882440725962, G_Loss: 2.531610703468323\n"
     ]
    },
    {
     "name": "stderr",
     "output_type": "stream",
     "text": [
      "293: Training: 100%|██████████| 15/15 [00:01<00:00,  8.84it/s]\n"
     ]
    },
    {
     "name": "stdout",
     "output_type": "stream",
     "text": [
      "293 - D_Loss: 0.9779746572176615, G_Loss: 2.9142256140708924\n"
     ]
    },
    {
     "name": "stderr",
     "output_type": "stream",
     "text": [
      "294: Training: 100%|██████████| 15/15 [00:01<00:00,  8.90it/s]\n"
     ]
    },
    {
     "name": "stdout",
     "output_type": "stream",
     "text": [
      "294 - D_Loss: 0.44579308678706486, G_Loss: 2.6159006198247274\n"
     ]
    },
    {
     "name": "stderr",
     "output_type": "stream",
     "text": [
      "295: Training: 100%|██████████| 15/15 [00:01<00:00,  8.92it/s]\n"
     ]
    },
    {
     "name": "stdout",
     "output_type": "stream",
     "text": [
      "295 - D_Loss: 0.3646099070707957, G_Loss: 2.4628013451894124\n"
     ]
    },
    {
     "name": "stderr",
     "output_type": "stream",
     "text": [
      "296: Training: 100%|██████████| 15/15 [00:01<00:00,  8.91it/s]\n"
     ]
    },
    {
     "name": "stdout",
     "output_type": "stream",
     "text": [
      "296 - D_Loss: 0.4906003882487615, G_Loss: 2.682428741455078\n"
     ]
    },
    {
     "name": "stderr",
     "output_type": "stream",
     "text": [
      "297: Training: 100%|██████████| 15/15 [00:01<00:00,  8.92it/s]\n"
     ]
    },
    {
     "name": "stdout",
     "output_type": "stream",
     "text": [
      "297 - D_Loss: 0.3187726338704427, G_Loss: 2.6588786602020265\n"
     ]
    },
    {
     "name": "stderr",
     "output_type": "stream",
     "text": [
      "298: Training: 100%|██████████| 15/15 [00:01<00:00,  8.72it/s]\n"
     ]
    },
    {
     "name": "stdout",
     "output_type": "stream",
     "text": [
      "298 - D_Loss: 0.4438766529162725, G_Loss: 2.4814828713734944\n"
     ]
    },
    {
     "name": "stderr",
     "output_type": "stream",
     "text": [
      "299: Training: 100%|██████████| 15/15 [00:01<00:00,  8.98it/s]\n"
     ]
    },
    {
     "name": "stdout",
     "output_type": "stream",
     "text": [
      "299 - D_Loss: 0.5833427210648855, G_Loss: 2.5383048057556152\n"
     ]
    },
    {
     "name": "stderr",
     "output_type": "stream",
     "text": [
      "300: Training: 100%|██████████| 15/15 [00:01<00:00,  8.84it/s]\n"
     ]
    },
    {
     "name": "stdout",
     "output_type": "stream",
     "text": [
      "300 - D_Loss: 0.4754003425439199, G_Loss: 2.664513413111369\n"
     ]
    },
    {
     "name": "stderr",
     "output_type": "stream",
     "text": [
      "301: Training: 100%|██████████| 15/15 [00:01<00:00,  8.77it/s]\n"
     ]
    },
    {
     "name": "stdout",
     "output_type": "stream",
     "text": [
      "301 - D_Loss: 0.4070069342851639, G_Loss: 2.735614808400472\n"
     ]
    },
    {
     "name": "stderr",
     "output_type": "stream",
     "text": [
      "302: Training: 100%|██████████| 15/15 [00:01<00:00,  8.92it/s]\n"
     ]
    },
    {
     "name": "stdout",
     "output_type": "stream",
     "text": [
      "302 - D_Loss: 0.6142626464366913, G_Loss: 2.8311780134836835\n"
     ]
    },
    {
     "name": "stderr",
     "output_type": "stream",
     "text": [
      "303: Training: 100%|██████████| 15/15 [00:01<00:00,  8.95it/s]\n"
     ]
    },
    {
     "name": "stdout",
     "output_type": "stream",
     "text": [
      "303 - D_Loss: 0.6607044885555903, G_Loss: 2.758982475598653\n"
     ]
    },
    {
     "name": "stderr",
     "output_type": "stream",
     "text": [
      "304: Training: 100%|██████████| 15/15 [00:01<00:00,  8.83it/s]\n"
     ]
    },
    {
     "name": "stdout",
     "output_type": "stream",
     "text": [
      "304 - D_Loss: 0.6986213405927022, G_Loss: 2.629131571451823\n"
     ]
    },
    {
     "name": "stderr",
     "output_type": "stream",
     "text": [
      "305: Training: 100%|██████████| 15/15 [00:01<00:00,  8.92it/s]\n"
     ]
    },
    {
     "name": "stdout",
     "output_type": "stream",
     "text": [
      "305 - D_Loss: 0.5906868537267049, G_Loss: 2.7052454630533855\n"
     ]
    },
    {
     "name": "stderr",
     "output_type": "stream",
     "text": [
      "306: Training: 100%|██████████| 15/15 [00:01<00:00,  8.90it/s]\n"
     ]
    },
    {
     "name": "stdout",
     "output_type": "stream",
     "text": [
      "306 - D_Loss: 0.40620579818884534, G_Loss: 2.7616674741109213\n"
     ]
    },
    {
     "name": "stderr",
     "output_type": "stream",
     "text": [
      "307: Training: 100%|██████████| 15/15 [00:01<00:00,  8.94it/s]\n"
     ]
    },
    {
     "name": "stdout",
     "output_type": "stream",
     "text": [
      "307 - D_Loss: 0.37728472153345743, G_Loss: 2.6612162907918293\n"
     ]
    },
    {
     "name": "stderr",
     "output_type": "stream",
     "text": [
      "308: Training: 100%|██████████| 15/15 [00:01<00:00,  8.93it/s]\n"
     ]
    },
    {
     "name": "stdout",
     "output_type": "stream",
     "text": [
      "308 - D_Loss: 0.49144713481267294, G_Loss: 2.506157346566518\n"
     ]
    },
    {
     "name": "stderr",
     "output_type": "stream",
     "text": [
      "309: Training: 100%|██████████| 15/15 [00:01<00:00,  8.91it/s]\n"
     ]
    },
    {
     "name": "stdout",
     "output_type": "stream",
     "text": [
      "309 - D_Loss: 0.558461872736613, G_Loss: 2.7967237631479898\n"
     ]
    },
    {
     "name": "stderr",
     "output_type": "stream",
     "text": [
      "310: Training: 100%|██████████| 15/15 [00:01<00:00,  9.02it/s]\n"
     ]
    },
    {
     "name": "stdout",
     "output_type": "stream",
     "text": [
      "310 - D_Loss: 0.5872139672438303, G_Loss: 2.785325463612874\n"
     ]
    },
    {
     "name": "stderr",
     "output_type": "stream",
     "text": [
      "311: Training: 100%|██████████| 15/15 [00:01<00:00,  8.86it/s]\n"
     ]
    },
    {
     "name": "stdout",
     "output_type": "stream",
     "text": [
      "311 - D_Loss: 0.8258780260880788, G_Loss: 2.8253273248672484\n"
     ]
    },
    {
     "name": "stderr",
     "output_type": "stream",
     "text": [
      "312: Training: 100%|██████████| 15/15 [00:01<00:00,  8.89it/s]\n"
     ]
    },
    {
     "name": "stdout",
     "output_type": "stream",
     "text": [
      "312 - D_Loss: 0.7051688929398855, G_Loss: 2.704990617434184\n"
     ]
    },
    {
     "name": "stderr",
     "output_type": "stream",
     "text": [
      "313: Training: 100%|██████████| 15/15 [00:01<00:00,  8.92it/s]\n"
     ]
    },
    {
     "name": "stdout",
     "output_type": "stream",
     "text": [
      "313 - D_Loss: 0.6418524940808614, G_Loss: 2.8174210866292317\n"
     ]
    },
    {
     "name": "stderr",
     "output_type": "stream",
     "text": [
      "314: Training: 100%|██████████| 15/15 [00:01<00:00,  8.94it/s]\n"
     ]
    },
    {
     "name": "stdout",
     "output_type": "stream",
     "text": [
      "314 - D_Loss: 0.535006195306778, G_Loss: 3.069134473800659\n"
     ]
    },
    {
     "name": "stderr",
     "output_type": "stream",
     "text": [
      "315: Training: 100%|██████████| 15/15 [00:01<00:00,  8.85it/s]\n"
     ]
    },
    {
     "name": "stdout",
     "output_type": "stream",
     "text": [
      "315 - D_Loss: 0.404295023282369, G_Loss: 2.614958659807841\n"
     ]
    },
    {
     "name": "stderr",
     "output_type": "stream",
     "text": [
      "316: Training: 100%|██████████| 15/15 [00:01<00:00,  8.94it/s]\n"
     ]
    },
    {
     "name": "stdout",
     "output_type": "stream",
     "text": [
      "316 - D_Loss: 0.4924000173807144, G_Loss: 2.754713014761607\n"
     ]
    },
    {
     "name": "stderr",
     "output_type": "stream",
     "text": [
      "317: Training: 100%|██████████| 15/15 [00:01<00:00,  8.91it/s]\n"
     ]
    },
    {
     "name": "stdout",
     "output_type": "stream",
     "text": [
      "317 - D_Loss: 0.7032449980576833, G_Loss: 2.8829257011413576\n"
     ]
    },
    {
     "name": "stderr",
     "output_type": "stream",
     "text": [
      "318: Training: 100%|██████████| 15/15 [00:01<00:00,  8.78it/s]\n"
     ]
    },
    {
     "name": "stdout",
     "output_type": "stream",
     "text": [
      "318 - D_Loss: 0.6701890170574188, G_Loss: 2.893607989947001\n"
     ]
    },
    {
     "name": "stderr",
     "output_type": "stream",
     "text": [
      "319: Training: 100%|██████████| 15/15 [00:01<00:00,  8.96it/s]\n"
     ]
    },
    {
     "name": "stdout",
     "output_type": "stream",
     "text": [
      "319 - D_Loss: 0.7356988519430161, G_Loss: 2.7986953417460123\n"
     ]
    },
    {
     "name": "stderr",
     "output_type": "stream",
     "text": [
      "320: Training: 100%|██████████| 15/15 [00:01<00:00,  8.86it/s]\n"
     ]
    },
    {
     "name": "stdout",
     "output_type": "stream",
     "text": [
      "320 - D_Loss: 0.8488680024941763, G_Loss: 2.92290887037913\n"
     ]
    },
    {
     "name": "stderr",
     "output_type": "stream",
     "text": [
      "321: Training: 100%|██████████| 15/15 [00:01<00:00,  8.98it/s]\n"
     ]
    },
    {
     "name": "stdout",
     "output_type": "stream",
     "text": [
      "321 - D_Loss: 0.6845917900403341, G_Loss: 2.6789598862330117\n"
     ]
    },
    {
     "name": "stderr",
     "output_type": "stream",
     "text": [
      "322: Training: 100%|██████████| 15/15 [00:01<00:00,  8.97it/s]\n"
     ]
    },
    {
     "name": "stdout",
     "output_type": "stream",
     "text": [
      "322 - D_Loss: 0.5607182025909424, G_Loss: 2.6067824681599934\n"
     ]
    },
    {
     "name": "stderr",
     "output_type": "stream",
     "text": [
      "323: Training: 100%|██████████| 15/15 [00:01<00:00,  8.91it/s]\n"
     ]
    },
    {
     "name": "stdout",
     "output_type": "stream",
     "text": [
      "323 - D_Loss: 0.4333068092664083, G_Loss: 2.4845088799794515\n"
     ]
    },
    {
     "name": "stderr",
     "output_type": "stream",
     "text": [
      "324: Training: 100%|██████████| 15/15 [00:01<00:00,  8.90it/s]\n"
     ]
    },
    {
     "name": "stdout",
     "output_type": "stream",
     "text": [
      "324 - D_Loss: 0.45084125697612765, G_Loss: 2.713142228126526\n"
     ]
    },
    {
     "name": "stderr",
     "output_type": "stream",
     "text": [
      "325: Training: 100%|██████████| 15/15 [00:01<00:00,  8.83it/s]\n"
     ]
    },
    {
     "name": "stdout",
     "output_type": "stream",
     "text": [
      "325 - D_Loss: 0.33199563026428225, G_Loss: 2.602467139561971\n"
     ]
    },
    {
     "name": "stderr",
     "output_type": "stream",
     "text": [
      "326: Training: 100%|██████████| 15/15 [00:01<00:00,  8.98it/s]\n"
     ]
    },
    {
     "name": "stdout",
     "output_type": "stream",
     "text": [
      "326 - D_Loss: 0.41170275410016377, G_Loss: 2.650317978858948\n"
     ]
    },
    {
     "name": "stderr",
     "output_type": "stream",
     "text": [
      "327: Training: 100%|██████████| 15/15 [00:01<00:00,  8.93it/s]\n"
     ]
    },
    {
     "name": "stdout",
     "output_type": "stream",
     "text": [
      "327 - D_Loss: 0.529883724451065, G_Loss: 2.878073318799337\n"
     ]
    },
    {
     "name": "stderr",
     "output_type": "stream",
     "text": [
      "328: Training: 100%|██████████| 15/15 [00:01<00:00,  8.86it/s]\n"
     ]
    },
    {
     "name": "stdout",
     "output_type": "stream",
     "text": [
      "328 - D_Loss: 0.3507779250542323, G_Loss: 2.6517682234446207\n"
     ]
    },
    {
     "name": "stderr",
     "output_type": "stream",
     "text": [
      "329: Training: 100%|██████████| 15/15 [00:01<00:00,  8.93it/s]\n"
     ]
    },
    {
     "name": "stdout",
     "output_type": "stream",
     "text": [
      "329 - D_Loss: 0.3251406004031499, G_Loss: 2.6155513842900593\n"
     ]
    },
    {
     "name": "stderr",
     "output_type": "stream",
     "text": [
      "330: Training: 100%|██████████| 15/15 [00:01<00:00,  8.96it/s]\n"
     ]
    },
    {
     "name": "stdout",
     "output_type": "stream",
     "text": [
      "330 - D_Loss: 0.39048717319965365, G_Loss: 2.7059568405151366\n"
     ]
    },
    {
     "name": "stderr",
     "output_type": "stream",
     "text": [
      "331: Training: 100%|██████████| 15/15 [00:01<00:00,  8.95it/s]\n"
     ]
    },
    {
     "name": "stdout",
     "output_type": "stream",
     "text": [
      "331 - D_Loss: 0.4017733256022135, G_Loss: 2.7308340549468992\n"
     ]
    },
    {
     "name": "stderr",
     "output_type": "stream",
     "text": [
      "332: Training: 100%|██████████| 15/15 [00:01<00:00,  8.75it/s]\n"
     ]
    },
    {
     "name": "stdout",
     "output_type": "stream",
     "text": [
      "332 - D_Loss: 0.26990480373303094, G_Loss: 2.8078192551930745\n"
     ]
    },
    {
     "name": "stderr",
     "output_type": "stream",
     "text": [
      "333: Training: 100%|██████████| 15/15 [00:01<00:00,  8.82it/s]\n"
     ]
    },
    {
     "name": "stdout",
     "output_type": "stream",
     "text": [
      "333 - D_Loss: 0.2714181050658226, G_Loss: 2.8761239369710285\n"
     ]
    },
    {
     "name": "stderr",
     "output_type": "stream",
     "text": [
      "334: Training: 100%|██████████| 15/15 [00:01<00:00,  8.87it/s]\n"
     ]
    },
    {
     "name": "stdout",
     "output_type": "stream",
     "text": [
      "334 - D_Loss: 0.30299272338549293, G_Loss: 2.636906401316325\n"
     ]
    },
    {
     "name": "stderr",
     "output_type": "stream",
     "text": [
      "335: Training: 100%|██████████| 15/15 [00:01<00:00,  8.83it/s]\n"
     ]
    },
    {
     "name": "stdout",
     "output_type": "stream",
     "text": [
      "335 - D_Loss: 0.29894664883613586, G_Loss: 2.8869938055674234\n"
     ]
    },
    {
     "name": "stderr",
     "output_type": "stream",
     "text": [
      "336: Training: 100%|██████████| 15/15 [00:01<00:00,  8.86it/s]\n"
     ]
    },
    {
     "name": "stdout",
     "output_type": "stream",
     "text": [
      "336 - D_Loss: 0.3776128838459651, G_Loss: 2.706820503870646\n"
     ]
    },
    {
     "name": "stderr",
     "output_type": "stream",
     "text": [
      "337: Training: 100%|██████████| 15/15 [00:01<00:00,  8.81it/s]\n"
     ]
    },
    {
     "name": "stdout",
     "output_type": "stream",
     "text": [
      "337 - D_Loss: 0.44440329670906065, G_Loss: 3.189784590403239\n"
     ]
    },
    {
     "name": "stderr",
     "output_type": "stream",
     "text": [
      "338: Training: 100%|██████████| 15/15 [00:01<00:00,  8.98it/s]\n"
     ]
    },
    {
     "name": "stdout",
     "output_type": "stream",
     "text": [
      "338 - D_Loss: 0.49159929156303406, G_Loss: 2.8085888544718425\n"
     ]
    },
    {
     "name": "stderr",
     "output_type": "stream",
     "text": [
      "339: Training: 100%|██████████| 15/15 [00:01<00:00,  8.89it/s]\n"
     ]
    },
    {
     "name": "stdout",
     "output_type": "stream",
     "text": [
      "339 - D_Loss: 0.42466272215048473, G_Loss: 3.0885411898295083\n"
     ]
    },
    {
     "name": "stderr",
     "output_type": "stream",
     "text": [
      "340: Training: 100%|██████████| 15/15 [00:01<00:00,  8.97it/s]\n"
     ]
    },
    {
     "name": "stdout",
     "output_type": "stream",
     "text": [
      "340 - D_Loss: 0.5502998580535253, G_Loss: 3.3628967364629108\n"
     ]
    },
    {
     "name": "stderr",
     "output_type": "stream",
     "text": [
      "341: Training: 100%|██████████| 15/15 [00:01<00:00,  8.93it/s]\n"
     ]
    },
    {
     "name": "stdout",
     "output_type": "stream",
     "text": [
      "341 - D_Loss: 0.36152185102303824, G_Loss: 2.9234244505564373\n"
     ]
    },
    {
     "name": "stderr",
     "output_type": "stream",
     "text": [
      "342: Training: 100%|██████████| 15/15 [00:01<00:00,  8.93it/s]\n"
     ]
    },
    {
     "name": "stdout",
     "output_type": "stream",
     "text": [
      "342 - D_Loss: 0.4151055405537287, G_Loss: 2.9572975476582846\n"
     ]
    },
    {
     "name": "stderr",
     "output_type": "stream",
     "text": [
      "343: Training: 100%|██████████| 15/15 [00:01<00:00,  8.83it/s]\n"
     ]
    },
    {
     "name": "stdout",
     "output_type": "stream",
     "text": [
      "343 - D_Loss: 0.26137193739414216, G_Loss: 3.3130390961964924\n"
     ]
    },
    {
     "name": "stderr",
     "output_type": "stream",
     "text": [
      "344: Training: 100%|██████████| 15/15 [00:01<00:00,  8.93it/s]\n"
     ]
    },
    {
     "name": "stdout",
     "output_type": "stream",
     "text": [
      "344 - D_Loss: 0.3002127677202225, G_Loss: 3.0003180503845215\n"
     ]
    },
    {
     "name": "stderr",
     "output_type": "stream",
     "text": [
      "345: Training: 100%|██████████| 15/15 [00:01<00:00,  8.97it/s]\n"
     ]
    },
    {
     "name": "stdout",
     "output_type": "stream",
     "text": [
      "345 - D_Loss: 0.3299428731203079, G_Loss: 2.889699602127075\n"
     ]
    },
    {
     "name": "stderr",
     "output_type": "stream",
     "text": [
      "346: Training: 100%|██████████| 15/15 [00:01<00:00,  8.82it/s]\n"
     ]
    },
    {
     "name": "stdout",
     "output_type": "stream",
     "text": [
      "346 - D_Loss: 0.4930656611919403, G_Loss: 3.1020405451456705\n"
     ]
    },
    {
     "name": "stderr",
     "output_type": "stream",
     "text": [
      "347: Training: 100%|██████████| 15/15 [00:01<00:00,  8.93it/s]\n"
     ]
    },
    {
     "name": "stdout",
     "output_type": "stream",
     "text": [
      "347 - D_Loss: 0.46860855420430503, G_Loss: 3.017017837365468\n"
     ]
    },
    {
     "name": "stderr",
     "output_type": "stream",
     "text": [
      "348: Training: 100%|██████████| 15/15 [00:01<00:00,  8.93it/s]\n"
     ]
    },
    {
     "name": "stdout",
     "output_type": "stream",
     "text": [
      "348 - D_Loss: 0.7150572051604589, G_Loss: 3.366407934824626\n"
     ]
    },
    {
     "name": "stderr",
     "output_type": "stream",
     "text": [
      "349: Training: 100%|██████████| 15/15 [00:01<00:00,  8.91it/s]\n"
     ]
    },
    {
     "name": "stdout",
     "output_type": "stream",
     "text": [
      "349 - D_Loss: 0.48590861856937406, G_Loss: 2.8465689520041146\n"
     ]
    },
    {
     "name": "stderr",
     "output_type": "stream",
     "text": [
      "350: Training: 100%|██████████| 15/15 [00:01<00:00,  8.99it/s]\n"
     ]
    },
    {
     "name": "stdout",
     "output_type": "stream",
     "text": [
      "350 - D_Loss: 0.816105701526006, G_Loss: 3.1835938612620036\n"
     ]
    },
    {
     "name": "stderr",
     "output_type": "stream",
     "text": [
      "351: Training: 100%|██████████| 15/15 [00:01<00:00,  8.93it/s]\n"
     ]
    },
    {
     "name": "stdout",
     "output_type": "stream",
     "text": [
      "351 - D_Loss: 0.47259586056073505, G_Loss: 3.0803937753041586\n"
     ]
    },
    {
     "name": "stderr",
     "output_type": "stream",
     "text": [
      "352: Training: 100%|██████████| 15/15 [00:01<00:00,  8.90it/s]\n"
     ]
    },
    {
     "name": "stdout",
     "output_type": "stream",
     "text": [
      "352 - D_Loss: 0.45606671571731566, G_Loss: 3.1905314127604165\n"
     ]
    },
    {
     "name": "stderr",
     "output_type": "stream",
     "text": [
      "353: Training: 100%|██████████| 15/15 [00:01<00:00,  8.99it/s]\n"
     ]
    },
    {
     "name": "stdout",
     "output_type": "stream",
     "text": [
      "353 - D_Loss: 0.47352578341960905, G_Loss: 2.7885151783625286\n"
     ]
    },
    {
     "name": "stderr",
     "output_type": "stream",
     "text": [
      "354: Training: 100%|██████████| 15/15 [00:01<00:00,  8.97it/s]\n"
     ]
    },
    {
     "name": "stdout",
     "output_type": "stream",
     "text": [
      "354 - D_Loss: 0.5502618332703908, G_Loss: 3.194028457005819\n"
     ]
    },
    {
     "name": "stderr",
     "output_type": "stream",
     "text": [
      "355: Training: 100%|██████████| 15/15 [00:01<00:00,  8.95it/s]\n"
     ]
    },
    {
     "name": "stdout",
     "output_type": "stream",
     "text": [
      "355 - D_Loss: 0.3812929997841517, G_Loss: 3.137783686319987\n"
     ]
    },
    {
     "name": "stderr",
     "output_type": "stream",
     "text": [
      "356: Training: 100%|██████████| 15/15 [00:01<00:00,  8.90it/s]\n"
     ]
    },
    {
     "name": "stdout",
     "output_type": "stream",
     "text": [
      "356 - D_Loss: 0.3528302530447642, G_Loss: 3.035923687616984\n"
     ]
    },
    {
     "name": "stderr",
     "output_type": "stream",
     "text": [
      "357: Training: 100%|██████████| 15/15 [00:01<00:00,  8.97it/s]\n"
     ]
    },
    {
     "name": "stdout",
     "output_type": "stream",
     "text": [
      "357 - D_Loss: 0.4073582202196121, G_Loss: 2.976467800140381\n"
     ]
    },
    {
     "name": "stderr",
     "output_type": "stream",
     "text": [
      "358: Training: 100%|██████████| 15/15 [00:01<00:00,  8.93it/s]\n"
     ]
    },
    {
     "name": "stdout",
     "output_type": "stream",
     "text": [
      "358 - D_Loss: 0.5717222998539607, G_Loss: 3.2894982655843097\n"
     ]
    },
    {
     "name": "stderr",
     "output_type": "stream",
     "text": [
      "359: Training: 100%|██████████| 15/15 [00:01<00:00,  8.89it/s]\n"
     ]
    },
    {
     "name": "stdout",
     "output_type": "stream",
     "text": [
      "359 - D_Loss: 0.4997813483079275, G_Loss: 3.5976425329844157\n"
     ]
    },
    {
     "name": "stderr",
     "output_type": "stream",
     "text": [
      "360: Training: 100%|██████████| 15/15 [00:01<00:00,  8.96it/s]\n"
     ]
    },
    {
     "name": "stdout",
     "output_type": "stream",
     "text": [
      "360 - D_Loss: 0.3303013483683268, G_Loss: 3.178474013010661\n"
     ]
    },
    {
     "name": "stderr",
     "output_type": "stream",
     "text": [
      "361: Training: 100%|██████████| 15/15 [00:01<00:00,  8.77it/s]\n"
     ]
    },
    {
     "name": "stdout",
     "output_type": "stream",
     "text": [
      "361 - D_Loss: 0.2759600132703781, G_Loss: 2.8803117593129475\n"
     ]
    },
    {
     "name": "stderr",
     "output_type": "stream",
     "text": [
      "362: Training: 100%|██████████| 15/15 [00:01<00:00,  9.03it/s]\n"
     ]
    },
    {
     "name": "stdout",
     "output_type": "stream",
     "text": [
      "362 - D_Loss: 0.31003659069538114, G_Loss: 3.1439012050628663\n"
     ]
    },
    {
     "name": "stderr",
     "output_type": "stream",
     "text": [
      "363: Training: 100%|██████████| 15/15 [00:01<00:00,  8.53it/s]\n"
     ]
    },
    {
     "name": "stdout",
     "output_type": "stream",
     "text": [
      "363 - D_Loss: 0.3759070376555125, G_Loss: 3.1589853763580322\n"
     ]
    },
    {
     "name": "stderr",
     "output_type": "stream",
     "text": [
      "364: Training: 100%|██████████| 15/15 [00:01<00:00,  8.91it/s]\n"
     ]
    },
    {
     "name": "stdout",
     "output_type": "stream",
     "text": [
      "364 - D_Loss: 0.39672188758850097, G_Loss: 3.10744731426239\n"
     ]
    },
    {
     "name": "stderr",
     "output_type": "stream",
     "text": [
      "365: Training: 100%|██████████| 15/15 [00:01<00:00,  8.76it/s]\n"
     ]
    },
    {
     "name": "stdout",
     "output_type": "stream",
     "text": [
      "365 - D_Loss: 0.5251464923222859, G_Loss: 3.4316092173258466\n"
     ]
    },
    {
     "name": "stderr",
     "output_type": "stream",
     "text": [
      "366: Training: 100%|██████████| 15/15 [00:01<00:00,  8.80it/s]\n"
     ]
    },
    {
     "name": "stdout",
     "output_type": "stream",
     "text": [
      "366 - D_Loss: 0.49498907327651975, G_Loss: 3.3337618470191956\n"
     ]
    },
    {
     "name": "stderr",
     "output_type": "stream",
     "text": [
      "367: Training: 100%|██████████| 15/15 [00:01<00:00,  8.86it/s]\n"
     ]
    },
    {
     "name": "stdout",
     "output_type": "stream",
     "text": [
      "367 - D_Loss: 0.6209033151467641, G_Loss: 3.5279088338216145\n"
     ]
    },
    {
     "name": "stderr",
     "output_type": "stream",
     "text": [
      "368: Training: 100%|██████████| 15/15 [00:01<00:00,  8.89it/s]\n"
     ]
    },
    {
     "name": "stdout",
     "output_type": "stream",
     "text": [
      "368 - D_Loss: 0.5379198521375657, G_Loss: 3.7228392442067464\n"
     ]
    },
    {
     "name": "stderr",
     "output_type": "stream",
     "text": [
      "369: Training: 100%|██████████| 15/15 [00:01<00:00,  8.95it/s]\n"
     ]
    },
    {
     "name": "stdout",
     "output_type": "stream",
     "text": [
      "369 - D_Loss: 0.35321379204591113, G_Loss: 2.8861743132273356\n"
     ]
    },
    {
     "name": "stderr",
     "output_type": "stream",
     "text": [
      "370: Training: 100%|██████████| 15/15 [00:01<00:00,  9.01it/s]\n"
     ]
    },
    {
     "name": "stdout",
     "output_type": "stream",
     "text": [
      "370 - D_Loss: 0.317462479074796, G_Loss: 3.333626619974772\n"
     ]
    },
    {
     "name": "stderr",
     "output_type": "stream",
     "text": [
      "371: Training: 100%|██████████| 15/15 [00:01<00:00,  8.98it/s]\n"
     ]
    },
    {
     "name": "stdout",
     "output_type": "stream",
     "text": [
      "371 - D_Loss: 0.28060077329476674, G_Loss: 3.102118635177612\n"
     ]
    },
    {
     "name": "stderr",
     "output_type": "stream",
     "text": [
      "372: Training: 100%|██████████| 15/15 [00:01<00:00,  8.98it/s]\n"
     ]
    },
    {
     "name": "stdout",
     "output_type": "stream",
     "text": [
      "372 - D_Loss: 0.37720971504847206, G_Loss: 3.188892428080241\n"
     ]
    },
    {
     "name": "stderr",
     "output_type": "stream",
     "text": [
      "373: Training: 100%|██████████| 15/15 [00:01<00:00,  8.85it/s]\n"
     ]
    },
    {
     "name": "stdout",
     "output_type": "stream",
     "text": [
      "373 - D_Loss: 0.677833444873492, G_Loss: 3.1490358193715413\n"
     ]
    },
    {
     "name": "stderr",
     "output_type": "stream",
     "text": [
      "374: Training: 100%|██████████| 15/15 [00:01<00:00,  8.90it/s]\n"
     ]
    },
    {
     "name": "stdout",
     "output_type": "stream",
     "text": [
      "374 - D_Loss: 0.3079280763864517, G_Loss: 3.022627019882202\n"
     ]
    },
    {
     "name": "stderr",
     "output_type": "stream",
     "text": [
      "375: Training: 100%|██████████| 15/15 [00:01<00:00,  8.96it/s]\n"
     ]
    },
    {
     "name": "stdout",
     "output_type": "stream",
     "text": [
      "375 - D_Loss: 0.32483007311820983, G_Loss: 3.062796195348104\n"
     ]
    },
    {
     "name": "stderr",
     "output_type": "stream",
     "text": [
      "376: Training: 100%|██████████| 15/15 [00:01<00:00,  8.94it/s]\n"
     ]
    },
    {
     "name": "stdout",
     "output_type": "stream",
     "text": [
      "376 - D_Loss: 0.3238832583030065, G_Loss: 3.341205867131551\n"
     ]
    },
    {
     "name": "stderr",
     "output_type": "stream",
     "text": [
      "377: Training: 100%|██████████| 15/15 [00:01<00:00,  8.87it/s]\n"
     ]
    },
    {
     "name": "stdout",
     "output_type": "stream",
     "text": [
      "377 - D_Loss: 0.2618299384911855, G_Loss: 3.2612248420715333\n"
     ]
    },
    {
     "name": "stderr",
     "output_type": "stream",
     "text": [
      "378: Training: 100%|██████████| 15/15 [00:01<00:00,  8.81it/s]\n"
     ]
    },
    {
     "name": "stdout",
     "output_type": "stream",
     "text": [
      "378 - D_Loss: 0.23180777182181675, G_Loss: 3.22137508392334\n"
     ]
    },
    {
     "name": "stderr",
     "output_type": "stream",
     "text": [
      "379: Training: 100%|██████████| 15/15 [00:01<00:00,  8.86it/s]\n"
     ]
    },
    {
     "name": "stdout",
     "output_type": "stream",
     "text": [
      "379 - D_Loss: 0.4003100097179413, G_Loss: 3.26520311832428\n"
     ]
    },
    {
     "name": "stderr",
     "output_type": "stream",
     "text": [
      "380: Training: 100%|██████████| 15/15 [00:01<00:00,  8.90it/s]\n"
     ]
    },
    {
     "name": "stdout",
     "output_type": "stream",
     "text": [
      "380 - D_Loss: 0.5053867797056834, G_Loss: 3.302500009536743\n"
     ]
    },
    {
     "name": "stderr",
     "output_type": "stream",
     "text": [
      "381: Training: 100%|██████████| 15/15 [00:01<00:00,  8.91it/s]\n"
     ]
    },
    {
     "name": "stdout",
     "output_type": "stream",
     "text": [
      "381 - D_Loss: 0.5935301502545675, G_Loss: 4.06790566444397\n"
     ]
    },
    {
     "name": "stderr",
     "output_type": "stream",
     "text": [
      "382: Training: 100%|██████████| 15/15 [00:01<00:00,  8.94it/s]\n"
     ]
    },
    {
     "name": "stdout",
     "output_type": "stream",
     "text": [
      "382 - D_Loss: 0.46117229759693146, G_Loss: 3.1514355897903443\n"
     ]
    },
    {
     "name": "stderr",
     "output_type": "stream",
     "text": [
      "383: Training: 100%|██████████| 15/15 [00:01<00:00,  8.92it/s]\n"
     ]
    },
    {
     "name": "stdout",
     "output_type": "stream",
     "text": [
      "383 - D_Loss: 0.4374717076619466, G_Loss: 3.2777559757232666\n"
     ]
    },
    {
     "name": "stderr",
     "output_type": "stream",
     "text": [
      "384: Training: 100%|██████████| 15/15 [00:01<00:00,  8.89it/s]\n"
     ]
    },
    {
     "name": "stdout",
     "output_type": "stream",
     "text": [
      "384 - D_Loss: 0.4215432087580363, G_Loss: 3.1662355422973634\n"
     ]
    },
    {
     "name": "stderr",
     "output_type": "stream",
     "text": [
      "385: Training: 100%|██████████| 15/15 [00:01<00:00,  8.99it/s]\n"
     ]
    },
    {
     "name": "stdout",
     "output_type": "stream",
     "text": [
      "385 - D_Loss: 0.6578944822152456, G_Loss: 3.5164382696151733\n"
     ]
    },
    {
     "name": "stderr",
     "output_type": "stream",
     "text": [
      "386: Training: 100%|██████████| 15/15 [00:01<00:00,  8.91it/s]\n"
     ]
    },
    {
     "name": "stdout",
     "output_type": "stream",
     "text": [
      "386 - D_Loss: 0.41667830844720205, G_Loss: 3.383679231007894\n"
     ]
    },
    {
     "name": "stderr",
     "output_type": "stream",
     "text": [
      "387: Training: 100%|██████████| 15/15 [00:01<00:00,  8.89it/s]\n"
     ]
    },
    {
     "name": "stdout",
     "output_type": "stream",
     "text": [
      "387 - D_Loss: 0.4602693855762482, G_Loss: 3.4020283222198486\n"
     ]
    },
    {
     "name": "stderr",
     "output_type": "stream",
     "text": [
      "388: Training: 100%|██████████| 15/15 [00:01<00:00,  8.98it/s]\n"
     ]
    },
    {
     "name": "stdout",
     "output_type": "stream",
     "text": [
      "388 - D_Loss: 0.3524391611417135, G_Loss: 3.3422282218933104\n"
     ]
    },
    {
     "name": "stderr",
     "output_type": "stream",
     "text": [
      "389: Training: 100%|██████████| 15/15 [00:01<00:00,  8.97it/s]\n"
     ]
    },
    {
     "name": "stdout",
     "output_type": "stream",
     "text": [
      "389 - D_Loss: 0.35191553135712944, G_Loss: 3.2332826693852743\n"
     ]
    },
    {
     "name": "stderr",
     "output_type": "stream",
     "text": [
      "390: Training: 100%|██████████| 15/15 [00:01<00:00,  8.92it/s]\n"
     ]
    },
    {
     "name": "stdout",
     "output_type": "stream",
     "text": [
      "390 - D_Loss: 0.33264985779921213, G_Loss: 3.060164785385132\n"
     ]
    },
    {
     "name": "stderr",
     "output_type": "stream",
     "text": [
      "391: Training: 100%|██████████| 15/15 [00:01<00:00,  8.89it/s]\n"
     ]
    },
    {
     "name": "stdout",
     "output_type": "stream",
     "text": [
      "391 - D_Loss: 0.36641509930292765, G_Loss: 3.0805109977722167\n"
     ]
    },
    {
     "name": "stderr",
     "output_type": "stream",
     "text": [
      "392: Training: 100%|██████████| 15/15 [00:01<00:00,  8.81it/s]\n"
     ]
    },
    {
     "name": "stdout",
     "output_type": "stream",
     "text": [
      "392 - D_Loss: 0.574659580985705, G_Loss: 3.5696607708930967\n"
     ]
    },
    {
     "name": "stderr",
     "output_type": "stream",
     "text": [
      "393: Training: 100%|██████████| 15/15 [00:01<00:00,  8.84it/s]\n"
     ]
    },
    {
     "name": "stdout",
     "output_type": "stream",
     "text": [
      "393 - D_Loss: 0.6245763858159383, G_Loss: 3.1406533320744834\n"
     ]
    },
    {
     "name": "stderr",
     "output_type": "stream",
     "text": [
      "394: Training: 100%|██████████| 15/15 [00:01<00:00,  8.85it/s]\n"
     ]
    },
    {
     "name": "stdout",
     "output_type": "stream",
     "text": [
      "394 - D_Loss: 0.4271529401342074, G_Loss: 3.4113690853118896\n"
     ]
    },
    {
     "name": "stderr",
     "output_type": "stream",
     "text": [
      "395: Training: 100%|██████████| 15/15 [00:01<00:00,  8.88it/s]\n"
     ]
    },
    {
     "name": "stdout",
     "output_type": "stream",
     "text": [
      "395 - D_Loss: 0.2823541949192683, G_Loss: 3.2179449876149495\n"
     ]
    },
    {
     "name": "stderr",
     "output_type": "stream",
     "text": [
      "396: Training: 100%|██████████| 15/15 [00:01<00:00,  8.96it/s]\n"
     ]
    },
    {
     "name": "stdout",
     "output_type": "stream",
     "text": [
      "396 - D_Loss: 0.29760128955046333, G_Loss: 3.2506216684977214\n"
     ]
    },
    {
     "name": "stderr",
     "output_type": "stream",
     "text": [
      "397: Training: 100%|██████████| 15/15 [00:01<00:00,  8.88it/s]\n"
     ]
    },
    {
     "name": "stdout",
     "output_type": "stream",
     "text": [
      "397 - D_Loss: 0.26044059892495475, G_Loss: 3.122679917017619\n"
     ]
    },
    {
     "name": "stderr",
     "output_type": "stream",
     "text": [
      "398: Training: 100%|██████████| 15/15 [00:01<00:00,  8.89it/s]\n"
     ]
    },
    {
     "name": "stdout",
     "output_type": "stream",
     "text": [
      "398 - D_Loss: 0.286630350848039, G_Loss: 3.067156529426575\n"
     ]
    },
    {
     "name": "stderr",
     "output_type": "stream",
     "text": [
      "399: Training: 100%|██████████| 15/15 [00:01<00:00,  8.80it/s]\n"
     ]
    },
    {
     "name": "stdout",
     "output_type": "stream",
     "text": [
      "399 - D_Loss: 0.3895030309756597, G_Loss: 3.2274035930633547\n"
     ]
    },
    {
     "name": "stderr",
     "output_type": "stream",
     "text": [
      "400: Training: 100%|██████████| 15/15 [00:01<00:00,  8.89it/s]"
     ]
    },
    {
     "name": "stdout",
     "output_type": "stream",
     "text": [
      "400 - D_Loss: 0.21902802536884944, G_Loss: 3.3508932908376057\n"
     ]
    },
    {
     "name": "stderr",
     "output_type": "stream",
     "text": [
      "\n"
     ]
    }
   ],
   "source": [
    "# Loss function\n",
    "adversarial_loss = nn.BCELoss()\n",
    "pixel_loss = nn.L1Loss()\n",
    "\n",
    "# Optimizers\n",
    "optimizer_G = Adam(generator.parameters(), lr=0.0002, betas=(0.5, 0.999))\n",
    "optimizer_D = Adam(discriminator.parameters(), lr=0.0002, betas=(0.5, 0.999))\n",
    "\n",
    "# Training loop\n",
    "total_d_loss = []\n",
    "total_g_loss = []\n",
    "\n",
    "for epoch in range(num_epochs):\n",
    "\n",
    "    epoch_d_loss = 0\n",
    "    epoch_g_loss = 0\n",
    "\n",
    "    for step, real_imgs in enumerate(tqdm(dataloader,  desc=\"{}: Training\".format(epoch+1))):\n",
    "        generator.train()\n",
    "        discriminator.train()\n",
    "        batch_size = real_imgs.shape[0]\n",
    "        real_imgs = real_imgs.to(device)\n",
    "\n",
    "        \n",
    "        # Discriminator Training\n",
    "        real = torch.ones(batch_size, 1).to(device)\n",
    "        fake = torch.zeros(batch_size, 1).to(device)\n",
    "        \n",
    "        # Real\n",
    "        discriminator.zero_grad()\n",
    "        real_pred = discriminator(real_imgs)\n",
    "        d_real_loss = adversarial_loss(real_pred, real)\n",
    "\n",
    "        # Fake\n",
    "        noise = torch.randn(batch_size, dim, 1, 1).to(device)\n",
    "        fake_imgs = generator(noise)\n",
    "        fake_pred = discriminator(fake_imgs)\n",
    "        d_fake_loss = adversarial_loss(fake_pred, fake)\n",
    "\n",
    "        # Total Discriminator Loss (Ability to distinguish between real and fake)\n",
    "        d_loss = d_real_loss + d_fake_loss\n",
    "        total_d_loss.append(d_loss.item())\n",
    "        epoch_d_loss += d_loss.item()\n",
    "        d_loss.backward()\n",
    "        optimizer_D.step()\n",
    "\n",
    "        # Generator Training\n",
    "        generator.zero_grad()\n",
    "\n",
    "        # Adversarial Loss (Ability to generate extremely good fake)\n",
    "        fake_imgs = generator(noise)\n",
    "        fake_pred = discriminator(fake_imgs)\n",
    "        g_fake_loss = adversarial_loss(fake_pred, real)\n",
    "        g_pixel_loss = pixel_loss(fake_imgs, real_imgs)\n",
    "\n",
    "        # Total Generator Loss\n",
    "        g_loss = 0.9*g_fake_loss + 0.1 * g_pixel_loss\n",
    "        total_g_loss.append(g_loss.item())\n",
    "        epoch_g_loss += g_loss.item()\n",
    "        g_loss.backward()\n",
    "        optimizer_G.step()\n",
    "        \n",
    "    mean_d_loss = epoch_d_loss / len(dataloader)\n",
    "    mean_g_loss = epoch_g_loss / len(dataloader)\n",
    "\n",
    "    print('{} - D_Loss: {}, G_Loss: {}'.format(epoch+1, mean_d_loss, mean_g_loss))\n",
    "    \n",
    "    # Save 20 Sample Gan Images Every 50 epochs starting from 150 epoch\n",
    "    if (epoch + 1) > 100:\n",
    "        if (epoch + 1) % 50 == 0:\n",
    "            generator.eval()\n",
    "            with torch.no_grad():\n",
    "                gan_batch = 20\n",
    "                count = 1\n",
    "                noise = torch.randn(gan_batch, dim, 1, 1).to(device)\n",
    "                imgs = generator(noise).cpu().numpy().transpose(0, 2, 3, 1)\n",
    "                for img in imgs:\n",
    "                    img = img * 255\n",
    "                    path = '{}_{}.jpeg'.format(epoch+1, count)\n",
    "                    img_path = os.path.join('gan_images', path)\n",
    "                    cv2.imwrite(img_path, img)\n",
    "                    count += 1\n",
    "\n",
    "\n",
    "# Save Last Weights\n",
    "os.makedirs('weights', exist_ok=True)\n",
    "state = {\n",
    "    'Generator': generator.state_dict(),\n",
    "    'Discriminator': discriminator.state_dict()\n",
    "}\n",
    "torch.save(state, './weights/d_{:.2f}_g{:.2f}'.format(epoch+1, mean_d_loss, mean_g_loss))"
   ]
  },
  {
   "attachments": {},
   "cell_type": "markdown",
   "metadata": {},
   "source": [
    "# Plot"
   ]
  },
  {
   "cell_type": "code",
   "execution_count": 18,
   "metadata": {},
   "outputs": [
    {
     "data": {
      "text/plain": [
       "Text(0.5, 1.0, 'Cr: Gan Model Loss')"
      ]
     },
     "execution_count": 18,
     "metadata": {},
     "output_type": "execute_result"
    },
    {
     "data": {
      "image/png": "[encoded data removed]",
      "text/plain": [
       "<Figure size 640x480 with 1 Axes>"
      ]
     },
     "metadata": {},
     "output_type": "display_data"
    }
   ],
   "source": [
    "plt.plot(total_d_loss)\n",
    "plt.plot(total_g_loss)\n",
    "plt.legend(['Discriminator', 'Generator'])\n",
    "plt.xlabel('Steps')\n",
    "plt.ylabel('Loss')\n",
    "plt.title('Cr: Gan Model Loss')"
   ]
  }
 ],
 "metadata": {
  "kernelspec": {
   "display_name": "venv_cv",
   "language": "python",
   "name": "python3"
  },
  "language_info": {
   "codemirror_mode": {
    "name": "ipython",
    "version": 3
   },
   "file_extension": ".py",
   "mimetype": "text/x-python",
   "name": "python",
   "nbconvert_exporter": "python",
   "pygments_lexer": "ipython3",
   "version": "3.11.2"
  },
  "orig_nbformat": 4
 },
 "nbformat": 4,
 "nbformat_minor": 2
}
